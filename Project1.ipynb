{
 "cells": [
  {
   "cell_type": "code",
<<<<<<< HEAD
   "execution_count": 1,
=======
   "execution_count": 2,
>>>>>>> main
   "metadata": {},
   "outputs": [],
   "source": [
    "import pandas as pd\n",
    "import statistics as st\n",
    "import matplotlib_inline as plt\n",
    "import numpy as np\n",
    "import matplotlib.pyplot as plt\n",
    "import seaborn as sns  # Seaborn provides a nice set of color palettes\n"
   ]
  },
  {
   "cell_type": "code",
<<<<<<< HEAD
   "execution_count": 2,
=======
   "execution_count": 3,
>>>>>>> main
   "metadata": {},
   "outputs": [],
   "source": [
    "pd.read_excel(\"Data_Train.xlsx\").to_csv(\"Data_Train1.csv\", index=False)"
   ]
  },
  {
   "cell_type": "code",
<<<<<<< HEAD
   "execution_count": 3,
=======
   "execution_count": 4,
>>>>>>> main
   "metadata": {},
   "outputs": [],
   "source": [
    "df = pd.read_csv(\"Data_Train1.csv\")"
   ]
  },
  {
   "cell_type": "code",
<<<<<<< HEAD
   "execution_count": 4,
=======
   "execution_count": 5,
>>>>>>> main
   "metadata": {},
   "outputs": [
    {
     "data": {
      "text/html": [
       "<div>\n",
       "<style scoped>\n",
       "    .dataframe tbody tr th:only-of-type {\n",
       "        vertical-align: middle;\n",
       "    }\n",
       "\n",
       "    .dataframe tbody tr th {\n",
       "        vertical-align: top;\n",
       "    }\n",
       "\n",
       "    .dataframe thead th {\n",
       "        text-align: right;\n",
       "    }\n",
       "</style>\n",
       "<table border=\"1\" class=\"dataframe\">\n",
       "  <thead>\n",
       "    <tr style=\"text-align: right;\">\n",
       "      <th></th>\n",
       "      <th>Airline</th>\n",
       "      <th>Date_of_Journey</th>\n",
       "      <th>Source</th>\n",
       "      <th>Destination</th>\n",
       "      <th>Route</th>\n",
       "      <th>Dep_Time</th>\n",
       "      <th>Arrival_Time</th>\n",
       "      <th>Duration</th>\n",
       "      <th>Total_Stops</th>\n",
       "      <th>Additional_Info</th>\n",
       "      <th>Price</th>\n",
       "    </tr>\n",
       "  </thead>\n",
       "  <tbody>\n",
       "    <tr>\n",
       "      <th>0</th>\n",
       "      <td>IndiGo</td>\n",
       "      <td>24/03/2019</td>\n",
       "      <td>Banglore</td>\n",
       "      <td>New Delhi</td>\n",
       "      <td>BLR → DEL</td>\n",
       "      <td>22:20</td>\n",
       "      <td>01:10 22 Mar</td>\n",
       "      <td>2h 50m</td>\n",
       "      <td>non-stop</td>\n",
       "      <td>No info</td>\n",
       "      <td>3897</td>\n",
       "    </tr>\n",
       "    <tr>\n",
       "      <th>1</th>\n",
       "      <td>Air India</td>\n",
       "      <td>1/05/2019</td>\n",
       "      <td>Kolkata</td>\n",
       "      <td>Banglore</td>\n",
       "      <td>CCU → IXR → BBI → BLR</td>\n",
       "      <td>05:50</td>\n",
       "      <td>13:15</td>\n",
       "      <td>7h 25m</td>\n",
       "      <td>2 stops</td>\n",
       "      <td>No info</td>\n",
       "      <td>7662</td>\n",
       "    </tr>\n",
       "    <tr>\n",
       "      <th>2</th>\n",
       "      <td>Jet Airways</td>\n",
       "      <td>9/06/2019</td>\n",
       "      <td>Delhi</td>\n",
       "      <td>Cochin</td>\n",
       "      <td>DEL → LKO → BOM → COK</td>\n",
       "      <td>09:25</td>\n",
       "      <td>04:25 10 Jun</td>\n",
       "      <td>19h</td>\n",
       "      <td>2 stops</td>\n",
       "      <td>No info</td>\n",
       "      <td>13882</td>\n",
       "    </tr>\n",
       "    <tr>\n",
       "      <th>3</th>\n",
       "      <td>IndiGo</td>\n",
       "      <td>12/05/2019</td>\n",
       "      <td>Kolkata</td>\n",
       "      <td>Banglore</td>\n",
       "      <td>CCU → NAG → BLR</td>\n",
       "      <td>18:05</td>\n",
       "      <td>23:30</td>\n",
       "      <td>5h 25m</td>\n",
       "      <td>1 stop</td>\n",
       "      <td>No info</td>\n",
       "      <td>6218</td>\n",
       "    </tr>\n",
       "    <tr>\n",
       "      <th>4</th>\n",
       "      <td>IndiGo</td>\n",
       "      <td>01/03/2019</td>\n",
       "      <td>Banglore</td>\n",
       "      <td>New Delhi</td>\n",
       "      <td>BLR → NAG → DEL</td>\n",
       "      <td>16:50</td>\n",
       "      <td>21:35</td>\n",
       "      <td>4h 45m</td>\n",
       "      <td>1 stop</td>\n",
       "      <td>No info</td>\n",
       "      <td>13302</td>\n",
       "    </tr>\n",
       "  </tbody>\n",
       "</table>\n",
       "</div>"
      ],
      "text/plain": [
       "       Airline Date_of_Journey    Source Destination                  Route  \\\n",
       "0       IndiGo      24/03/2019  Banglore   New Delhi              BLR → DEL   \n",
       "1    Air India       1/05/2019   Kolkata    Banglore  CCU → IXR → BBI → BLR   \n",
       "2  Jet Airways       9/06/2019     Delhi      Cochin  DEL → LKO → BOM → COK   \n",
       "3       IndiGo      12/05/2019   Kolkata    Banglore        CCU → NAG → BLR   \n",
       "4       IndiGo      01/03/2019  Banglore   New Delhi        BLR → NAG → DEL   \n",
       "\n",
       "  Dep_Time  Arrival_Time Duration Total_Stops Additional_Info  Price  \n",
       "0    22:20  01:10 22 Mar   2h 50m    non-stop         No info   3897  \n",
       "1    05:50         13:15   7h 25m     2 stops         No info   7662  \n",
       "2    09:25  04:25 10 Jun      19h     2 stops         No info  13882  \n",
       "3    18:05         23:30   5h 25m      1 stop         No info   6218  \n",
       "4    16:50         21:35   4h 45m      1 stop         No info  13302  "
      ]
     },
<<<<<<< HEAD
     "execution_count": 4,
=======
     "execution_count": 5,
>>>>>>> main
     "metadata": {},
     "output_type": "execute_result"
    }
   ],
   "source": [
    "df.head()"
   ]
  },
  {
   "cell_type": "code",
<<<<<<< HEAD
   "execution_count": 5,
=======
   "execution_count": 6,
>>>>>>> main
   "metadata": {},
   "outputs": [
    {
     "name": "stdout",
     "output_type": "stream",
     "text": [
      "(10683, 11)\n"
     ]
    }
   ],
   "source": [
    "print(df.shape)"
   ]
  },
  {
   "cell_type": "code",
<<<<<<< HEAD
   "execution_count": 6,
=======
   "execution_count": 7,
>>>>>>> main
   "metadata": {},
   "outputs": [
    {
     "name": "stdout",
     "output_type": "stream",
     "text": [
      "Airline            object\n",
      "Date_of_Journey    object\n",
      "Source             object\n",
      "Destination        object\n",
      "Route              object\n",
      "Dep_Time           object\n",
      "Arrival_Time       object\n",
      "Duration           object\n",
      "Total_Stops        object\n",
      "Additional_Info    object\n",
      "Price               int64\n",
      "dtype: object\n"
     ]
    }
   ],
   "source": [
    "print(df.dtypes)"
   ]
  },
  {
   "cell_type": "code",
<<<<<<< HEAD
   "execution_count": 7,
=======
   "execution_count": 8,
>>>>>>> main
   "metadata": {},
   "outputs": [],
   "source": [
    "# df[\"Airline\"] = df[\"Airline\"].astype(\"str\")"
   ]
  },
  {
   "cell_type": "code",
<<<<<<< HEAD
   "execution_count": 8,
=======
   "execution_count": 9,
>>>>>>> main
   "metadata": {},
   "outputs": [],
   "source": [
    "# df[\"Source\"] = df[\"Source\"].astype(\"str\")"
   ]
  },
  {
   "cell_type": "code",
<<<<<<< HEAD
   "execution_count": 9,
=======
   "execution_count": 10,
>>>>>>> main
   "metadata": {},
   "outputs": [],
   "source": [
    "# df[\"Destination\"] = df[\"Destination\"].astype(\"str\")"
   ]
  },
  {
   "cell_type": "code",
<<<<<<< HEAD
   "execution_count": 10,
=======
   "execution_count": 11,
>>>>>>> main
   "metadata": {},
   "outputs": [],
   "source": [
    "df[\"Route\"] = df[\"Route\"].astype(\"str\").str.replace(\"→\", \"-\")"
   ]
  },
  {
   "cell_type": "code",
<<<<<<< HEAD
   "execution_count": 11,
=======
   "execution_count": 12,
>>>>>>> main
   "metadata": {},
   "outputs": [],
   "source": [
    "# df[\"Dep_Time\"] = df[\"Dep_Time\"].astype(\"str\").str.replace(\":\", \".\").astype(\"float\")"
   ]
  },
  {
   "cell_type": "code",
<<<<<<< HEAD
   "execution_count": 12,
=======
   "execution_count": 13,
>>>>>>> main
   "metadata": {},
   "outputs": [
    {
     "name": "stderr",
     "output_type": "stream",
     "text": [
<<<<<<< HEAD
      "C:\\Users\\suraj\\AppData\\Local\\Temp\\ipykernel_10360\\1954500797.py:1: UserWarning: Parsing dates in DD/MM/YYYY format when dayfirst=False (the default) was specified. This may lead to inconsistently parsed dates! Specify a format to ensure consistent parsing.\n",
=======
      "C:\\Users\\16476\\AppData\\Local\\Temp\\ipykernel_15884\\1954500797.py:1: UserWarning: Parsing dates in DD/MM/YYYY format when dayfirst=False (the default) was specified. This may lead to inconsistently parsed dates! Specify a format to ensure consistent parsing.\n",
>>>>>>> main
      "  df[\"Date_of_Journey\"] = pd.to_datetime(df[\"Date_of_Journey\"])\n"
     ]
    }
   ],
   "source": [
    "df[\"Date_of_Journey\"] = pd.to_datetime(df[\"Date_of_Journey\"])"
   ]
  },
  {
   "cell_type": "code",
<<<<<<< HEAD
   "execution_count": 13,
=======
   "execution_count": 14,
>>>>>>> main
   "metadata": {},
   "outputs": [],
   "source": [
    "df = df.sort_values(by = \"Date_of_Journey\", ascending= True).reset_index()"
   ]
  },
  {
   "cell_type": "code",
<<<<<<< HEAD
   "execution_count": 14,
=======
   "execution_count": 15,
>>>>>>> main
   "metadata": {},
   "outputs": [
    {
     "data": {
      "text/html": [
       "<div>\n",
       "<style scoped>\n",
       "    .dataframe tbody tr th:only-of-type {\n",
       "        vertical-align: middle;\n",
       "    }\n",
       "\n",
       "    .dataframe tbody tr th {\n",
       "        vertical-align: top;\n",
       "    }\n",
       "\n",
       "    .dataframe thead th {\n",
       "        text-align: right;\n",
       "    }\n",
       "</style>\n",
       "<table border=\"1\" class=\"dataframe\">\n",
       "  <thead>\n",
       "    <tr style=\"text-align: right;\">\n",
       "      <th></th>\n",
       "      <th>index</th>\n",
       "      <th>Airline</th>\n",
       "      <th>Date_of_Journey</th>\n",
       "      <th>Source</th>\n",
       "      <th>Destination</th>\n",
       "      <th>Route</th>\n",
       "      <th>Dep_Time</th>\n",
       "      <th>Arrival_Time</th>\n",
       "      <th>Duration</th>\n",
       "      <th>Total_Stops</th>\n",
       "      <th>Additional_Info</th>\n",
       "      <th>Price</th>\n",
       "    </tr>\n",
       "  </thead>\n",
       "  <tbody>\n",
       "    <tr>\n",
       "      <th>0</th>\n",
       "      <td>959</td>\n",
       "      <td>Jet Airways</td>\n",
       "      <td>2019-01-03</td>\n",
       "      <td>Banglore</td>\n",
       "      <td>New Delhi</td>\n",
       "      <td>BLR - BOM - DEL</td>\n",
       "      <td>11:40</td>\n",
       "      <td>00:45 02 Mar</td>\n",
       "      <td>13h 5m</td>\n",
       "      <td>1 stop</td>\n",
       "      <td>No info</td>\n",
       "      <td>26890</td>\n",
       "    </tr>\n",
       "    <tr>\n",
       "      <th>1</th>\n",
       "      <td>6336</td>\n",
       "      <td>SpiceJet</td>\n",
       "      <td>2019-01-03</td>\n",
       "      <td>Banglore</td>\n",
       "      <td>New Delhi</td>\n",
       "      <td>BLR - HYD - DEL</td>\n",
       "      <td>15:35</td>\n",
       "      <td>23:40</td>\n",
       "      <td>8h 5m</td>\n",
       "      <td>1 stop</td>\n",
       "      <td>1 Long layover</td>\n",
       "      <td>7744</td>\n",
       "    </tr>\n",
       "    <tr>\n",
       "      <th>2</th>\n",
       "      <td>1654</td>\n",
       "      <td>Jet Airways</td>\n",
       "      <td>2019-01-03</td>\n",
       "      <td>Banglore</td>\n",
       "      <td>New Delhi</td>\n",
       "      <td>BLR - BOM - DEL</td>\n",
       "      <td>08:00</td>\n",
       "      <td>20:20</td>\n",
       "      <td>12h 20m</td>\n",
       "      <td>1 stop</td>\n",
       "      <td>No info</td>\n",
       "      <td>27992</td>\n",
       "    </tr>\n",
       "    <tr>\n",
       "      <th>3</th>\n",
       "      <td>6321</td>\n",
       "      <td>Air India</td>\n",
       "      <td>2019-01-03</td>\n",
       "      <td>Banglore</td>\n",
       "      <td>New Delhi</td>\n",
       "      <td>BLR - BOM - AMD - DEL</td>\n",
       "      <td>08:50</td>\n",
       "      <td>23:55 02 Mar</td>\n",
       "      <td>39h 5m</td>\n",
       "      <td>2 stops</td>\n",
       "      <td>No info</td>\n",
       "      <td>17135</td>\n",
       "    </tr>\n",
       "    <tr>\n",
       "      <th>4</th>\n",
       "      <td>6314</td>\n",
       "      <td>Jet Airways</td>\n",
       "      <td>2019-01-03</td>\n",
       "      <td>Banglore</td>\n",
       "      <td>New Delhi</td>\n",
       "      <td>BLR - BOM - DEL</td>\n",
       "      <td>11:40</td>\n",
       "      <td>11:25 02 Mar</td>\n",
       "      <td>23h 45m</td>\n",
       "      <td>1 stop</td>\n",
       "      <td>No info</td>\n",
       "      <td>25735</td>\n",
       "    </tr>\n",
       "  </tbody>\n",
       "</table>\n",
       "</div>"
      ],
      "text/plain": [
       "   index      Airline Date_of_Journey    Source Destination  \\\n",
       "0    959  Jet Airways      2019-01-03  Banglore   New Delhi   \n",
       "1   6336     SpiceJet      2019-01-03  Banglore   New Delhi   \n",
       "2   1654  Jet Airways      2019-01-03  Banglore   New Delhi   \n",
       "3   6321    Air India      2019-01-03  Banglore   New Delhi   \n",
       "4   6314  Jet Airways      2019-01-03  Banglore   New Delhi   \n",
       "\n",
       "                   Route Dep_Time  Arrival_Time Duration Total_Stops  \\\n",
       "0        BLR - BOM - DEL    11:40  00:45 02 Mar   13h 5m      1 stop   \n",
       "1        BLR - HYD - DEL    15:35         23:40    8h 5m      1 stop   \n",
       "2        BLR - BOM - DEL    08:00         20:20  12h 20m      1 stop   \n",
       "3  BLR - BOM - AMD - DEL    08:50  23:55 02 Mar   39h 5m     2 stops   \n",
       "4        BLR - BOM - DEL    11:40  11:25 02 Mar  23h 45m      1 stop   \n",
       "\n",
       "  Additional_Info  Price  \n",
       "0         No info  26890  \n",
       "1  1 Long layover   7744  \n",
       "2         No info  27992  \n",
       "3         No info  17135  \n",
       "4         No info  25735  "
      ]
     },
<<<<<<< HEAD
     "execution_count": 14,
=======
     "execution_count": 15,
>>>>>>> main
     "metadata": {},
     "output_type": "execute_result"
    }
   ],
   "source": [
    "df.head(5)"
   ]
  },
  {
   "cell_type": "code",
<<<<<<< HEAD
   "execution_count": 15,
=======
   "execution_count": 16,
>>>>>>> main
   "metadata": {},
   "outputs": [
    {
     "name": "stdout",
     "output_type": "stream",
     "text": [
      "2019-01-03 00:00:00 2019-12-06 00:00:00 337 days 00:00:00\n"
     ]
    }
   ],
   "source": [
    "start_date = df.iloc[0, 2]\n",
    "end_date = df.iloc[10681, 2]\n",
    "diff_date = end_date - start_date\n",
    "print(start_date, end_date, diff_date)"
   ]
  },
  {
   "cell_type": "code",
<<<<<<< HEAD
   "execution_count": 16,
=======
   "execution_count": 17,
>>>>>>> main
   "metadata": {},
   "outputs": [
    {
     "data": {
      "text/html": [
       "<div>\n",
       "<style scoped>\n",
       "    .dataframe tbody tr th:only-of-type {\n",
       "        vertical-align: middle;\n",
       "    }\n",
       "\n",
       "    .dataframe tbody tr th {\n",
       "        vertical-align: top;\n",
       "    }\n",
       "\n",
       "    .dataframe thead th {\n",
       "        text-align: right;\n",
       "    }\n",
       "</style>\n",
       "<table border=\"1\" class=\"dataframe\">\n",
       "  <thead>\n",
       "    <tr style=\"text-align: right;\">\n",
       "      <th></th>\n",
       "      <th>index</th>\n",
       "      <th>Airline</th>\n",
       "      <th>Date_of_Journey</th>\n",
       "      <th>Source</th>\n",
       "      <th>Destination</th>\n",
       "      <th>Route</th>\n",
       "      <th>Dep_Time</th>\n",
       "      <th>Arrival_Time</th>\n",
       "      <th>Duration</th>\n",
       "      <th>Total_Stops</th>\n",
       "      <th>Additional_Info</th>\n",
       "      <th>Price</th>\n",
       "    </tr>\n",
       "  </thead>\n",
       "  <tbody>\n",
       "    <tr>\n",
       "      <th>0</th>\n",
       "      <td>959</td>\n",
       "      <td>Jet Airways</td>\n",
       "      <td>2019-01-03</td>\n",
       "      <td>Banglore</td>\n",
       "      <td>New Delhi</td>\n",
       "      <td>BLR - BOM - DEL</td>\n",
       "      <td>11:40</td>\n",
       "      <td>00:45 02 Mar</td>\n",
       "      <td>13.083333</td>\n",
       "      <td>1 stop</td>\n",
       "      <td>No info</td>\n",
       "      <td>26890</td>\n",
       "    </tr>\n",
       "    <tr>\n",
       "      <th>1</th>\n",
       "      <td>6336</td>\n",
       "      <td>SpiceJet</td>\n",
       "      <td>2019-01-03</td>\n",
       "      <td>Banglore</td>\n",
       "      <td>New Delhi</td>\n",
       "      <td>BLR - HYD - DEL</td>\n",
       "      <td>15:35</td>\n",
       "      <td>23:40</td>\n",
       "      <td>8.083333</td>\n",
       "      <td>1 stop</td>\n",
       "      <td>1 Long layover</td>\n",
       "      <td>7744</td>\n",
       "    </tr>\n",
       "    <tr>\n",
       "      <th>2</th>\n",
       "      <td>1654</td>\n",
       "      <td>Jet Airways</td>\n",
       "      <td>2019-01-03</td>\n",
       "      <td>Banglore</td>\n",
       "      <td>New Delhi</td>\n",
       "      <td>BLR - BOM - DEL</td>\n",
       "      <td>08:00</td>\n",
       "      <td>20:20</td>\n",
       "      <td>12.333333</td>\n",
       "      <td>1 stop</td>\n",
       "      <td>No info</td>\n",
       "      <td>27992</td>\n",
       "    </tr>\n",
       "    <tr>\n",
       "      <th>3</th>\n",
       "      <td>6321</td>\n",
       "      <td>Air India</td>\n",
       "      <td>2019-01-03</td>\n",
       "      <td>Banglore</td>\n",
       "      <td>New Delhi</td>\n",
       "      <td>BLR - BOM - AMD - DEL</td>\n",
       "      <td>08:50</td>\n",
       "      <td>23:55 02 Mar</td>\n",
       "      <td>39.083333</td>\n",
       "      <td>2 stops</td>\n",
       "      <td>No info</td>\n",
       "      <td>17135</td>\n",
       "    </tr>\n",
       "    <tr>\n",
       "      <th>4</th>\n",
       "      <td>6314</td>\n",
       "      <td>Jet Airways</td>\n",
       "      <td>2019-01-03</td>\n",
       "      <td>Banglore</td>\n",
       "      <td>New Delhi</td>\n",
       "      <td>BLR - BOM - DEL</td>\n",
       "      <td>11:40</td>\n",
       "      <td>11:25 02 Mar</td>\n",
       "      <td>23.750000</td>\n",
       "      <td>1 stop</td>\n",
       "      <td>No info</td>\n",
       "      <td>25735</td>\n",
       "    </tr>\n",
       "  </tbody>\n",
       "</table>\n",
       "</div>"
      ],
      "text/plain": [
       "   index      Airline Date_of_Journey    Source Destination  \\\n",
       "0    959  Jet Airways      2019-01-03  Banglore   New Delhi   \n",
       "1   6336     SpiceJet      2019-01-03  Banglore   New Delhi   \n",
       "2   1654  Jet Airways      2019-01-03  Banglore   New Delhi   \n",
       "3   6321    Air India      2019-01-03  Banglore   New Delhi   \n",
       "4   6314  Jet Airways      2019-01-03  Banglore   New Delhi   \n",
       "\n",
       "                   Route Dep_Time  Arrival_Time   Duration Total_Stops  \\\n",
       "0        BLR - BOM - DEL    11:40  00:45 02 Mar  13.083333      1 stop   \n",
       "1        BLR - HYD - DEL    15:35         23:40   8.083333      1 stop   \n",
       "2        BLR - BOM - DEL    08:00         20:20  12.333333      1 stop   \n",
       "3  BLR - BOM - AMD - DEL    08:50  23:55 02 Mar  39.083333     2 stops   \n",
       "4        BLR - BOM - DEL    11:40  11:25 02 Mar  23.750000      1 stop   \n",
       "\n",
       "  Additional_Info  Price  \n",
       "0         No info  26890  \n",
       "1  1 Long layover   7744  \n",
       "2         No info  27992  \n",
       "3         No info  17135  \n",
       "4         No info  25735  "
      ]
     },
<<<<<<< HEAD
     "execution_count": 16,
=======
     "execution_count": 17,
>>>>>>> main
     "metadata": {},
     "output_type": "execute_result"
    }
   ],
   "source": [
    "def time_string_to_float(time_str):\n",
    "    parts = time_str.split()\n",
    "\n",
    "    if len(parts) == 2:\n",
    "        try:\n",
    "            hours = int(parts[0].replace('h', ''))\n",
    "            minutes = int(parts[1].replace('m', ''))\n",
    "            total_hours = hours + minutes / 60.0\n",
    "            return total_hours\n",
    "        except ValueError:\n",
    "            return None\n",
    "    elif len(parts) == 1 and 'h' in parts[0]:\n",
    "        hours = int(parts[0].replace(\"h\", \"\"))\n",
    "        return hours\n",
    "    else:\n",
    "        return None\n",
    "\n",
    "df[\"Duration\"] = df[\"Duration\"].apply(time_string_to_float)\n",
    "df.head()\n",
    "\n",
    "\n"
   ]
  },
  {
   "cell_type": "code",
<<<<<<< HEAD
   "execution_count": 17,
=======
   "execution_count": 18,
>>>>>>> main
   "metadata": {},
   "outputs": [
    {
     "name": "stdout",
     "output_type": "stream",
     "text": [
      "index              0\n",
      "Airline            0\n",
      "Date_of_Journey    0\n",
      "Source             0\n",
      "Destination        0\n",
      "Route              0\n",
      "Dep_Time           0\n",
      "Arrival_Time       0\n",
      "Duration           1\n",
      "Total_Stops        1\n",
      "Additional_Info    0\n",
      "Price              0\n",
      "dtype: int64\n"
     ]
    }
   ],
   "source": [
    "print(df.isna().sum())"
   ]
  },
  {
   "cell_type": "code",
<<<<<<< HEAD
   "execution_count": 18,
=======
   "execution_count": 19,
>>>>>>> main
   "metadata": {},
   "outputs": [],
   "source": [
    "df[\"Duration\"] = round(df[\"Duration\"], 2)\n",
    "# print(df[\"Duration\"])"
   ]
  },
  {
   "cell_type": "code",
<<<<<<< HEAD
   "execution_count": 19,
=======
   "execution_count": 20,
>>>>>>> main
   "metadata": {},
   "outputs": [],
   "source": [
    "df = df.drop([\"Additional_Info\"], axis = 1)"
   ]
  },
  {
   "cell_type": "code",
<<<<<<< HEAD
   "execution_count": 20,
=======
   "execution_count": 21,
>>>>>>> main
   "metadata": {},
   "outputs": [
    {
     "name": "stdout",
     "output_type": "stream",
     "text": [
      "Jet Airways                          3849\n",
      "IndiGo                               2053\n",
      "Air India                            1752\n",
      "Multiple carriers                    1196\n",
      "SpiceJet                              818\n",
      "Vistara                               479\n",
      "Air Asia                              319\n",
      "GoAir                                 194\n",
      "Multiple carriers Premium economy      13\n",
      "Jet Airways Business                    6\n",
      "Vistara Premium economy                 3\n",
      "Trujet                                  1\n",
      "Name: Airline, dtype: int64\n"
     ]
    }
   ],
   "source": [
    "print(df[\"Airline\"].value_counts())"
   ]
  },
  {
   "cell_type": "code",
<<<<<<< HEAD
   "execution_count": 21,
=======
   "execution_count": 22,
>>>>>>> main
   "metadata": {},
   "outputs": [
    {
     "name": "stdout",
     "output_type": "stream",
     "text": [
      "Delhi       4537\n",
      "Kolkata     2871\n",
      "Banglore    2197\n",
      "Mumbai       697\n",
      "Chennai      381\n",
      "Name: Source, dtype: int64\n"
     ]
    }
   ],
   "source": [
    "print(df[\"Source\"].value_counts())"
   ]
  },
  {
   "cell_type": "code",
<<<<<<< HEAD
   "execution_count": 22,
=======
   "execution_count": 23,
>>>>>>> main
   "metadata": {},
   "outputs": [
    {
     "name": "stdout",
     "output_type": "stream",
     "text": [
      "Cochin       4537\n",
      "Banglore     2871\n",
      "Delhi        1265\n",
      "New Delhi     932\n",
      "Hyderabad     697\n",
      "Kolkata       381\n",
      "Name: Destination, dtype: int64\n"
     ]
    }
   ],
   "source": [
    "print(df[\"Destination\"].value_counts())"
   ]
  },
  {
   "cell_type": "code",
<<<<<<< HEAD
   "execution_count": 23,
=======
   "execution_count": 24,
>>>>>>> main
   "metadata": {},
   "outputs": [
    {
     "name": "stdout",
     "output_type": "stream",
     "text": [
      "DEL - BOM - COK                      2376\n",
      "BLR - DEL                            1552\n",
      "CCU - BOM - BLR                       979\n",
      "CCU - BLR                             724\n",
      "BOM - HYD                             621\n",
      "                                     ... \n",
      "CCU - IXA - BLR                         1\n",
      "BLR - CCU - BBI - HYD - VGA - DEL       1\n",
      "BLR - HBX - BOM - NAG - DEL             1\n",
      "BLR - HBX - BOM - AMD - DEL             1\n",
      "BLR - BOM - IXC - DEL                   1\n",
      "Name: Route, Length: 129, dtype: int64\n"
     ]
    }
   ],
   "source": [
    "print(df[\"Route\"].value_counts())"
   ]
  },
  {
   "cell_type": "code",
<<<<<<< HEAD
   "execution_count": 24,
=======
   "execution_count": 25,
>>>>>>> main
   "metadata": {},
   "outputs": [
    {
     "name": "stdout",
     "output_type": "stream",
     "text": [
      "index              0\n",
      "Airline            0\n",
      "Date_of_Journey    0\n",
      "Source             0\n",
      "Destination        0\n",
      "Route              0\n",
      "Dep_Time           0\n",
      "Arrival_Time       0\n",
      "Duration           1\n",
      "Total_Stops        1\n",
      "Price              0\n",
      "dtype: int64\n"
     ]
    }
   ],
   "source": [
    "print(df.isna().sum())"
   ]
  },
  {
   "cell_type": "code",
<<<<<<< HEAD
   "execution_count": 25,
=======
   "execution_count": 26,
>>>>>>> main
   "metadata": {},
   "outputs": [],
   "source": [
    "df = df.dropna(axis = 0, how = \"any\")"
   ]
  },
  {
   "cell_type": "code",
<<<<<<< HEAD
   "execution_count": 26,
=======
   "execution_count": 27,
>>>>>>> main
   "metadata": {},
   "outputs": [],
   "source": [
    "# print(df.isna().sum())"
   ]
  },
  {
   "cell_type": "code",
<<<<<<< HEAD
   "execution_count": 27,
=======
   "execution_count": 28,
>>>>>>> main
   "metadata": {},
   "outputs": [
    {
     "data": {
      "text/plain": [
       "count    10681.000000\n",
       "mean      9086.443123\n",
       "std       4611.075357\n",
       "min       1759.000000\n",
       "25%       5277.000000\n",
       "50%       8372.000000\n",
       "75%      12373.000000\n",
       "max      79512.000000\n",
       "Name: Price, dtype: float64"
      ]
     },
<<<<<<< HEAD
     "execution_count": 27,
=======
     "execution_count": 28,
>>>>>>> main
     "metadata": {},
     "output_type": "execute_result"
    }
   ],
   "source": [
    "df[\"Price\"].describe()"
   ]
  },
  {
   "cell_type": "code",
<<<<<<< HEAD
   "execution_count": 28,
=======
   "execution_count": 29,
>>>>>>> main
   "metadata": {},
   "outputs": [
    {
     "name": "stdout",
     "output_type": "stream",
     "text": [
      "index                       int64\n",
      "Airline                    object\n",
      "Date_of_Journey    datetime64[ns]\n",
      "Source                     object\n",
      "Destination                object\n",
      "Route                      object\n",
      "Dep_Time                   object\n",
      "Arrival_Time               object\n",
      "Duration                  float64\n",
      "Total_Stops                object\n",
      "Price                       int64\n",
      "dtype: object\n"
     ]
    }
   ],
   "source": [
    "print(df.dtypes)"
   ]
  },
  {
   "cell_type": "code",
<<<<<<< HEAD
   "execution_count": 29,
=======
   "execution_count": 30,
>>>>>>> main
   "metadata": {},
   "outputs": [
    {
     "data": {
      "text/html": [
       "<div>\n",
       "<style scoped>\n",
       "    .dataframe tbody tr th:only-of-type {\n",
       "        vertical-align: middle;\n",
       "    }\n",
       "\n",
       "    .dataframe tbody tr th {\n",
       "        vertical-align: top;\n",
       "    }\n",
       "\n",
       "    .dataframe thead th {\n",
       "        text-align: right;\n",
       "    }\n",
       "</style>\n",
       "<table border=\"1\" class=\"dataframe\">\n",
       "  <thead>\n",
       "    <tr style=\"text-align: right;\">\n",
       "      <th></th>\n",
       "      <th>avg_price</th>\n",
       "      <th>avg_duration</th>\n",
       "    </tr>\n",
       "    <tr>\n",
       "      <th>Airline</th>\n",
       "      <th></th>\n",
       "      <th></th>\n",
       "    </tr>\n",
       "  </thead>\n",
       "  <tbody>\n",
       "    <tr>\n",
       "      <th>Jet Airways Business</th>\n",
       "      <td>58358.666667</td>\n",
       "      <td>6.445000</td>\n",
       "    </tr>\n",
       "    <tr>\n",
       "      <th>Jet Airways</th>\n",
       "      <td>11643.923357</td>\n",
       "      <td>14.162266</td>\n",
       "    </tr>\n",
       "    <tr>\n",
       "      <th>Multiple carriers Premium economy</th>\n",
       "      <td>11418.846154</td>\n",
       "      <td>10.106923</td>\n",
       "    </tr>\n",
       "    <tr>\n",
       "      <th>Multiple carriers</th>\n",
       "      <td>10902.678094</td>\n",
       "      <td>10.429406</td>\n",
       "    </tr>\n",
       "    <tr>\n",
       "      <th>Air India</th>\n",
       "      <td>9608.019429</td>\n",
       "      <td>15.724891</td>\n",
       "    </tr>\n",
       "    <tr>\n",
       "      <th>Vistara Premium economy</th>\n",
       "      <td>8962.333333</td>\n",
       "      <td>2.553333</td>\n",
       "    </tr>\n",
       "    <tr>\n",
       "      <th>Vistara</th>\n",
       "      <td>7796.348643</td>\n",
       "      <td>9.973528</td>\n",
       "    </tr>\n",
       "    <tr>\n",
       "      <th>GoAir</th>\n",
       "      <td>5861.056701</td>\n",
       "      <td>4.983814</td>\n",
       "    </tr>\n",
       "    <tr>\n",
       "      <th>IndiGo</th>\n",
       "      <td>5673.682903</td>\n",
       "      <td>4.756137</td>\n",
       "    </tr>\n",
       "    <tr>\n",
       "      <th>Air Asia</th>\n",
       "      <td>5590.260188</td>\n",
       "      <td>5.803950</td>\n",
       "    </tr>\n",
       "    <tr>\n",
       "      <th>SpiceJet</th>\n",
       "      <td>4338.284841</td>\n",
       "      <td>2.974523</td>\n",
       "    </tr>\n",
       "    <tr>\n",
       "      <th>Trujet</th>\n",
       "      <td>4140.000000</td>\n",
       "      <td>3.250000</td>\n",
       "    </tr>\n",
       "  </tbody>\n",
       "</table>\n",
       "</div>"
      ],
      "text/plain": [
       "                                      avg_price  avg_duration\n",
       "Airline                                                      \n",
       "Jet Airways Business               58358.666667      6.445000\n",
       "Jet Airways                        11643.923357     14.162266\n",
       "Multiple carriers Premium economy  11418.846154     10.106923\n",
       "Multiple carriers                  10902.678094     10.429406\n",
       "Air India                           9608.019429     15.724891\n",
       "Vistara Premium economy             8962.333333      2.553333\n",
       "Vistara                             7796.348643      9.973528\n",
       "GoAir                               5861.056701      4.983814\n",
       "IndiGo                              5673.682903      4.756137\n",
       "Air Asia                            5590.260188      5.803950\n",
       "SpiceJet                            4338.284841      2.974523\n",
       "Trujet                              4140.000000      3.250000"
      ]
     },
<<<<<<< HEAD
     "execution_count": 29,
=======
     "execution_count": 30,
>>>>>>> main
     "metadata": {},
     "output_type": "execute_result"
    }
   ],
   "source": [
    "df.groupby(\"Airline\").agg(avg_price = (\"Price\", \"mean\"), avg_duration = (\"Duration\", \"mean\")).sort_values(by = \"avg_price\", ascending= False)"
   ]
  },
  {
   "cell_type": "code",
<<<<<<< HEAD
   "execution_count": 30,
=======
   "execution_count": 31,
>>>>>>> main
   "metadata": {},
   "outputs": [
    {
     "data": {
      "text/html": [
       "<div>\n",
       "<style scoped>\n",
       "    .dataframe tbody tr th:only-of-type {\n",
       "        vertical-align: middle;\n",
       "    }\n",
       "\n",
       "    .dataframe tbody tr th {\n",
       "        vertical-align: top;\n",
       "    }\n",
       "\n",
       "    .dataframe thead th {\n",
       "        text-align: right;\n",
       "    }\n",
       "</style>\n",
       "<table border=\"1\" class=\"dataframe\">\n",
       "  <thead>\n",
       "    <tr style=\"text-align: right;\">\n",
       "      <th></th>\n",
       "      <th></th>\n",
       "      <th>avg_price</th>\n",
       "      <th>avg_duration</th>\n",
       "    </tr>\n",
       "    <tr>\n",
       "      <th>Airline</th>\n",
       "      <th>Destination</th>\n",
       "      <th></th>\n",
       "      <th></th>\n",
       "    </tr>\n",
       "  </thead>\n",
       "  <tbody>\n",
       "    <tr>\n",
       "      <th rowspan=\"2\" valign=\"top\">Jet Airways Business</th>\n",
       "      <th>New Delhi</th>\n",
       "      <td>62844.250000</td>\n",
       "      <td>5.502500</td>\n",
       "    </tr>\n",
       "    <tr>\n",
       "      <th>Cochin</th>\n",
       "      <td>49387.500000</td>\n",
       "      <td>8.330000</td>\n",
       "    </tr>\n",
       "    <tr>\n",
       "      <th rowspan=\"2\" valign=\"top\">Jet Airways</th>\n",
       "      <th>New Delhi</th>\n",
       "      <td>15101.272727</td>\n",
       "      <td>13.364354</td>\n",
       "    </tr>\n",
       "    <tr>\n",
       "      <th>Cochin</th>\n",
       "      <td>12642.593317</td>\n",
       "      <td>17.188102</td>\n",
       "    </tr>\n",
       "    <tr>\n",
       "      <th>Vistara</th>\n",
       "      <th>Hyderabad</th>\n",
       "      <td>12326.521739</td>\n",
       "      <td>17.218261</td>\n",
       "    </tr>\n",
       "    <tr>\n",
       "      <th>Vistara Premium economy</th>\n",
       "      <th>New Delhi</th>\n",
       "      <td>11793.000000</td>\n",
       "      <td>2.580000</td>\n",
       "    </tr>\n",
       "    <tr>\n",
       "      <th>Jet Airways</th>\n",
       "      <th>Banglore</th>\n",
       "      <td>11717.565287</td>\n",
       "      <td>15.950064</td>\n",
       "    </tr>\n",
       "    <tr>\n",
       "      <th>Multiple carriers Premium economy</th>\n",
       "      <th>Cochin</th>\n",
       "      <td>11418.846154</td>\n",
       "      <td>10.106923</td>\n",
       "    </tr>\n",
       "    <tr>\n",
       "      <th>Air India</th>\n",
       "      <th>New Delhi</th>\n",
       "      <td>11045.575472</td>\n",
       "      <td>16.215802</td>\n",
       "    </tr>\n",
       "    <tr>\n",
       "      <th>Multiple carriers</th>\n",
       "      <th>Cochin</th>\n",
       "      <td>10902.678094</td>\n",
       "      <td>10.429406</td>\n",
       "    </tr>\n",
       "    <tr>\n",
       "      <th rowspan=\"2\" valign=\"top\">Air India</th>\n",
       "      <th>Banglore</th>\n",
       "      <td>10357.324219</td>\n",
       "      <td>17.317930</td>\n",
       "    </tr>\n",
       "    <tr>\n",
       "      <th>Cochin</th>\n",
       "      <td>10003.446381</td>\n",
       "      <td>18.786059</td>\n",
       "    </tr>\n",
       "    <tr>\n",
       "      <th>Vistara</th>\n",
       "      <th>Banglore</th>\n",
       "      <td>9257.683060</td>\n",
       "      <td>19.080601</td>\n",
       "    </tr>\n",
       "    <tr>\n",
       "      <th>Vistara Premium economy</th>\n",
       "      <th>Kolkata</th>\n",
       "      <td>9125.000000</td>\n",
       "      <td>2.250000</td>\n",
       "    </tr>\n",
       "    <tr>\n",
       "      <th>Vistara</th>\n",
       "      <th>New Delhi</th>\n",
       "      <td>8947.388889</td>\n",
       "      <td>5.381296</td>\n",
       "    </tr>\n",
       "    <tr>\n",
       "      <th>Air Asia</th>\n",
       "      <th>Cochin</th>\n",
       "      <td>7804.175000</td>\n",
       "      <td>10.065625</td>\n",
       "    </tr>\n",
       "    <tr>\n",
       "      <th>GoAir</th>\n",
       "      <th>New Delhi</th>\n",
       "      <td>7532.333333</td>\n",
       "      <td>3.180000</td>\n",
       "    </tr>\n",
       "    <tr>\n",
       "      <th>Vistara</th>\n",
       "      <th>Kolkata</th>\n",
       "      <td>7491.372093</td>\n",
       "      <td>2.283488</td>\n",
       "    </tr>\n",
       "    <tr>\n",
       "      <th rowspan=\"2\" valign=\"top\">IndiGo</th>\n",
       "      <th>New Delhi</th>\n",
       "      <td>7312.828025</td>\n",
       "      <td>3.358025</td>\n",
       "    </tr>\n",
       "    <tr>\n",
       "      <th>Cochin</th>\n",
       "      <td>7203.933333</td>\n",
       "      <td>8.548638</td>\n",
       "    </tr>\n",
       "    <tr>\n",
       "      <th rowspan=\"2\" valign=\"top\">GoAir</th>\n",
       "      <th>Banglore</th>\n",
       "      <td>7047.000000</td>\n",
       "      <td>7.288400</td>\n",
       "    </tr>\n",
       "    <tr>\n",
       "      <th>Cochin</th>\n",
       "      <td>6587.157895</td>\n",
       "      <td>6.746316</td>\n",
       "    </tr>\n",
       "    <tr>\n",
       "      <th>Vistara</th>\n",
       "      <th>Cochin</th>\n",
       "      <td>6465.644444</td>\n",
       "      <td>3.142222</td>\n",
       "    </tr>\n",
       "    <tr>\n",
       "      <th rowspan=\"2\" valign=\"top\">Jet Airways</th>\n",
       "      <th>Delhi</th>\n",
       "      <td>6412.954054</td>\n",
       "      <td>2.961676</td>\n",
       "    </tr>\n",
       "    <tr>\n",
       "      <th>Hyderabad</th>\n",
       "      <td>6227.949772</td>\n",
       "      <td>2.442146</td>\n",
       "    </tr>\n",
       "    <tr>\n",
       "      <th>SpiceJet</th>\n",
       "      <th>New Delhi</th>\n",
       "      <td>6223.727273</td>\n",
       "      <td>3.795000</td>\n",
       "    </tr>\n",
       "    <tr>\n",
       "      <th rowspan=\"2\" valign=\"top\">Air India</th>\n",
       "      <th>Hyderabad</th>\n",
       "      <td>6178.074074</td>\n",
       "      <td>5.988667</td>\n",
       "    </tr>\n",
       "    <tr>\n",
       "      <th>Delhi</th>\n",
       "      <td>6045.166667</td>\n",
       "      <td>2.790917</td>\n",
       "    </tr>\n",
       "    <tr>\n",
       "      <th>Vistara Premium economy</th>\n",
       "      <th>Delhi</th>\n",
       "      <td>5969.000000</td>\n",
       "      <td>2.830000</td>\n",
       "    </tr>\n",
       "    <tr>\n",
       "      <th>SpiceJet</th>\n",
       "      <th>Cochin</th>\n",
       "      <td>5916.356322</td>\n",
       "      <td>5.135517</td>\n",
       "    </tr>\n",
       "    <tr>\n",
       "      <th>Air India</th>\n",
       "      <th>Kolkata</th>\n",
       "      <td>5895.640000</td>\n",
       "      <td>2.250000</td>\n",
       "    </tr>\n",
       "    <tr>\n",
       "      <th>Air Asia</th>\n",
       "      <th>New Delhi</th>\n",
       "      <td>5791.944444</td>\n",
       "      <td>2.790000</td>\n",
       "    </tr>\n",
       "    <tr>\n",
       "      <th>IndiGo</th>\n",
       "      <th>Banglore</th>\n",
       "      <td>5075.235955</td>\n",
       "      <td>3.215101</td>\n",
       "    </tr>\n",
       "    <tr>\n",
       "      <th>Vistara</th>\n",
       "      <th>Delhi</th>\n",
       "      <td>5042.312977</td>\n",
       "      <td>2.743282</td>\n",
       "    </tr>\n",
       "    <tr>\n",
       "      <th>Air Asia</th>\n",
       "      <th>Banglore</th>\n",
       "      <td>5012.320000</td>\n",
       "      <td>5.312667</td>\n",
       "    </tr>\n",
       "    <tr>\n",
       "      <th>SpiceJet</th>\n",
       "      <th>Banglore</th>\n",
       "      <td>4642.883333</td>\n",
       "      <td>3.177633</td>\n",
       "    </tr>\n",
       "    <tr>\n",
       "      <th rowspan=\"2\" valign=\"top\">IndiGo</th>\n",
       "      <th>Kolkata</th>\n",
       "      <td>4538.766304</td>\n",
       "      <td>2.357826</td>\n",
       "    </tr>\n",
       "    <tr>\n",
       "      <th>Delhi</th>\n",
       "      <td>4399.581967</td>\n",
       "      <td>2.861530</td>\n",
       "    </tr>\n",
       "    <tr>\n",
       "      <th>Air Asia</th>\n",
       "      <th>Delhi</th>\n",
       "      <td>4265.577465</td>\n",
       "      <td>2.804085</td>\n",
       "    </tr>\n",
       "    <tr>\n",
       "      <th>Trujet</th>\n",
       "      <th>Hyderabad</th>\n",
       "      <td>4140.000000</td>\n",
       "      <td>3.250000</td>\n",
       "    </tr>\n",
       "    <tr>\n",
       "      <th>GoAir</th>\n",
       "      <th>Delhi</th>\n",
       "      <td>4050.289855</td>\n",
       "      <td>2.834928</td>\n",
       "    </tr>\n",
       "    <tr>\n",
       "      <th rowspan=\"2\" valign=\"top\">SpiceJet</th>\n",
       "      <th>Delhi</th>\n",
       "      <td>4012.839416</td>\n",
       "      <td>2.805693</td>\n",
       "    </tr>\n",
       "    <tr>\n",
       "      <th>Kolkata</th>\n",
       "      <td>3993.523438</td>\n",
       "      <td>2.309141</td>\n",
       "    </tr>\n",
       "    <tr>\n",
       "      <th>IndiGo</th>\n",
       "      <th>Hyderabad</th>\n",
       "      <td>3659.816327</td>\n",
       "      <td>1.522806</td>\n",
       "    </tr>\n",
       "    <tr>\n",
       "      <th>SpiceJet</th>\n",
       "      <th>Hyderabad</th>\n",
       "      <td>2511.106557</td>\n",
       "      <td>1.525820</td>\n",
       "    </tr>\n",
       "  </tbody>\n",
       "</table>\n",
       "</div>"
      ],
      "text/plain": [
       "                                                  avg_price  avg_duration\n",
       "Airline                           Destination                            \n",
       "Jet Airways Business              New Delhi    62844.250000      5.502500\n",
       "                                  Cochin       49387.500000      8.330000\n",
       "Jet Airways                       New Delhi    15101.272727     13.364354\n",
       "                                  Cochin       12642.593317     17.188102\n",
       "Vistara                           Hyderabad    12326.521739     17.218261\n",
       "Vistara Premium economy           New Delhi    11793.000000      2.580000\n",
       "Jet Airways                       Banglore     11717.565287     15.950064\n",
       "Multiple carriers Premium economy Cochin       11418.846154     10.106923\n",
       "Air India                         New Delhi    11045.575472     16.215802\n",
       "Multiple carriers                 Cochin       10902.678094     10.429406\n",
       "Air India                         Banglore     10357.324219     17.317930\n",
       "                                  Cochin       10003.446381     18.786059\n",
       "Vistara                           Banglore      9257.683060     19.080601\n",
       "Vistara Premium economy           Kolkata       9125.000000      2.250000\n",
       "Vistara                           New Delhi     8947.388889      5.381296\n",
       "Air Asia                          Cochin        7804.175000     10.065625\n",
       "GoAir                             New Delhi     7532.333333      3.180000\n",
       "Vistara                           Kolkata       7491.372093      2.283488\n",
       "IndiGo                            New Delhi     7312.828025      3.358025\n",
       "                                  Cochin        7203.933333      8.548638\n",
       "GoAir                             Banglore      7047.000000      7.288400\n",
       "                                  Cochin        6587.157895      6.746316\n",
       "Vistara                           Cochin        6465.644444      3.142222\n",
       "Jet Airways                       Delhi         6412.954054      2.961676\n",
       "                                  Hyderabad     6227.949772      2.442146\n",
       "SpiceJet                          New Delhi     6223.727273      3.795000\n",
       "Air India                         Hyderabad     6178.074074      5.988667\n",
       "                                  Delhi         6045.166667      2.790917\n",
       "Vistara Premium economy           Delhi         5969.000000      2.830000\n",
       "SpiceJet                          Cochin        5916.356322      5.135517\n",
       "Air India                         Kolkata       5895.640000      2.250000\n",
       "Air Asia                          New Delhi     5791.944444      2.790000\n",
       "IndiGo                            Banglore      5075.235955      3.215101\n",
       "Vistara                           Delhi         5042.312977      2.743282\n",
       "Air Asia                          Banglore      5012.320000      5.312667\n",
       "SpiceJet                          Banglore      4642.883333      3.177633\n",
       "IndiGo                            Kolkata       4538.766304      2.357826\n",
       "                                  Delhi         4399.581967      2.861530\n",
       "Air Asia                          Delhi         4265.577465      2.804085\n",
       "Trujet                            Hyderabad     4140.000000      3.250000\n",
       "GoAir                             Delhi         4050.289855      2.834928\n",
       "SpiceJet                          Delhi         4012.839416      2.805693\n",
       "                                  Kolkata       3993.523438      2.309141\n",
       "IndiGo                            Hyderabad     3659.816327      1.522806\n",
       "SpiceJet                          Hyderabad     2511.106557      1.525820"
      ]
     },
<<<<<<< HEAD
     "execution_count": 30,
=======
     "execution_count": 31,
>>>>>>> main
     "metadata": {},
     "output_type": "execute_result"
    }
   ],
   "source": [
    "df.groupby([\"Airline\", \"Destination\"]).agg(\n",
    "    avg_price=pd.NamedAgg(column=\"Price\", aggfunc=\"mean\"),\n",
    "    avg_duration=pd.NamedAgg(column=\"Duration\", aggfunc=\"mean\")\n",
    ").sort_values(by=\"avg_price\", ascending=False)"
   ]
  },
  {
   "cell_type": "code",
<<<<<<< HEAD
   "execution_count": 31,
=======
   "execution_count": 32,
>>>>>>> main
   "metadata": {},
   "outputs": [
    {
     "name": "stdout",
     "output_type": "stream",
     "text": [
      "      Date_of_Journey  Months\n",
      "0          2019-01-03       1\n",
      "1          2019-01-03       1\n",
      "2          2019-01-03       1\n",
      "3          2019-01-03       1\n",
      "4          2019-01-03       1\n",
      "...               ...     ...\n",
      "10678      2019-12-06      12\n",
      "10679      2019-12-06      12\n",
      "10680      2019-12-06      12\n",
      "10681      2019-12-06      12\n",
      "10682      2019-12-06      12\n",
      "\n",
      "[10681 rows x 2 columns]\n"
     ]
    }
   ],
   "source": [
    "df[\"Months\"] = df[\"Date_of_Journey\"].dt.month\n",
    "print(df[[\"Date_of_Journey\", \"Months\"]])"
   ]
  },
  {
   "cell_type": "code",
<<<<<<< HEAD
   "execution_count": 32,
=======
   "execution_count": 33,
>>>>>>> main
   "metadata": {},
   "outputs": [
    {
     "data": {
      "text/html": [
       "<div>\n",
       "<style scoped>\n",
       "    .dataframe tbody tr th:only-of-type {\n",
       "        vertical-align: middle;\n",
       "    }\n",
       "\n",
       "    .dataframe tbody tr th {\n",
       "        vertical-align: top;\n",
       "    }\n",
       "\n",
       "    .dataframe thead th {\n",
       "        text-align: right;\n",
       "    }\n",
       "</style>\n",
       "<table border=\"1\" class=\"dataframe\">\n",
       "  <thead>\n",
       "    <tr style=\"text-align: right;\">\n",
       "      <th></th>\n",
       "      <th>avg_price</th>\n",
       "      <th>avg_duration</th>\n",
       "    </tr>\n",
       "    <tr>\n",
       "      <th>Months</th>\n",
       "      <th></th>\n",
       "      <th></th>\n",
       "    </tr>\n",
       "  </thead>\n",
       "  <tbody>\n",
       "    <tr>\n",
       "      <th>1</th>\n",
       "      <td>10492.642791</td>\n",
       "      <td>11.081740</td>\n",
       "    </tr>\n",
       "    <tr>\n",
       "      <th>9</th>\n",
       "      <td>9551.474395</td>\n",
       "      <td>11.742098</td>\n",
       "    </tr>\n",
       "    <tr>\n",
       "      <th>5</th>\n",
       "      <td>9361.077628</td>\n",
       "      <td>11.708505</td>\n",
       "    </tr>\n",
       "    <tr>\n",
       "      <th>6</th>\n",
       "      <td>9212.448303</td>\n",
       "      <td>10.678836</td>\n",
       "    </tr>\n",
       "    <tr>\n",
       "      <th>12</th>\n",
       "      <td>9110.774295</td>\n",
       "      <td>11.434044</td>\n",
       "    </tr>\n",
       "    <tr>\n",
       "      <th>3</th>\n",
       "      <td>8433.839891</td>\n",
       "      <td>10.026590</td>\n",
       "    </tr>\n",
       "    <tr>\n",
       "      <th>4</th>\n",
       "      <td>5230.860849</td>\n",
       "      <td>3.773042</td>\n",
       "    </tr>\n",
       "  </tbody>\n",
       "</table>\n",
       "</div>"
      ],
      "text/plain": [
       "           avg_price  avg_duration\n",
       "Months                            \n",
       "1       10492.642791     11.081740\n",
       "9        9551.474395     11.742098\n",
       "5        9361.077628     11.708505\n",
       "6        9212.448303     10.678836\n",
       "12       9110.774295     11.434044\n",
       "3        8433.839891     10.026590\n",
       "4        5230.860849      3.773042"
      ]
     },
<<<<<<< HEAD
     "execution_count": 32,
=======
     "execution_count": 33,
>>>>>>> main
     "metadata": {},
     "output_type": "execute_result"
    }
   ],
   "source": [
    "df.groupby(\"Months\").agg(avg_price = (\"Price\", \"mean\"), avg_duration = (\"Duration\", \"mean\")).sort_values(by = \"avg_price\", ascending= False)"
   ]
  },
  {
   "cell_type": "code",
<<<<<<< HEAD
   "execution_count": 33,
=======
   "execution_count": null,
   "metadata": {},
   "outputs": [],
   "source": []
  },
  {
   "cell_type": "code",
   "execution_count": 34,
>>>>>>> main
   "metadata": {},
   "outputs": [
    {
     "data": {
      "text/plain": [
       "array(['Jet Airways', 'SpiceJet', 'Air India', 'IndiGo', 'Air Asia',\n",
       "       'Vistara', 'GoAir', 'Jet Airways Business', 'Multiple carriers',\n",
       "       'Vistara Premium economy', 'Multiple carriers Premium economy',\n",
       "       'Trujet'], dtype=object)"
      ]
     },
<<<<<<< HEAD
     "execution_count": 33,
=======
     "execution_count": 34,
>>>>>>> main
     "metadata": {},
     "output_type": "execute_result"
    }
   ],
   "source": [
    "df['Airline'].unique()"
   ]
  },
  {
   "cell_type": "code",
<<<<<<< HEAD
   "execution_count": 34,
=======
   "execution_count": 35,
>>>>>>> main
   "metadata": {},
   "outputs": [
    {
     "data": {
      "text/plain": [
       "12"
      ]
     },
<<<<<<< HEAD
     "execution_count": 34,
=======
     "execution_count": 35,
>>>>>>> main
     "metadata": {},
     "output_type": "execute_result"
    }
   ],
   "source": [
    "total_airlines=df['Airline'].nunique()\n",
    "total_airlines"
   ]
  },
  {
   "cell_type": "code",
<<<<<<< HEAD
   "execution_count": 35,
=======
   "execution_count": 36,
>>>>>>> main
   "metadata": {},
   "outputs": [
    {
     "data": {
      "text/plain": [
       "array(['Banglore', 'Chennai', 'Delhi', 'Kolkata', 'Mumbai'], dtype=object)"
      ]
     },
<<<<<<< HEAD
     "execution_count": 35,
=======
     "execution_count": 36,
>>>>>>> main
     "metadata": {},
     "output_type": "execute_result"
    }
   ],
   "source": [
    "df['Source'].unique()"
   ]
  },
  {
   "cell_type": "code",
<<<<<<< HEAD
   "execution_count": 36,
=======
   "execution_count": 37,
>>>>>>> main
   "metadata": {},
   "outputs": [
    {
     "data": {
      "text/plain": [
       "array(['New Delhi', 'Kolkata', 'Cochin', 'Banglore', 'Hyderabad', 'Delhi'],\n",
       "      dtype=object)"
      ]
     },
<<<<<<< HEAD
     "execution_count": 36,
=======
     "execution_count": 37,
>>>>>>> main
     "metadata": {},
     "output_type": "execute_result"
    }
   ],
   "source": [
    "df['Destination'].unique()"
   ]
  },
  {
   "cell_type": "code",
<<<<<<< HEAD
   "execution_count": 37,
=======
   "execution_count": 38,
>>>>>>> main
   "metadata": {},
   "outputs": [
    {
     "data": {
      "text/html": [
       "<div>\n",
       "<style scoped>\n",
       "    .dataframe tbody tr th:only-of-type {\n",
       "        vertical-align: middle;\n",
       "    }\n",
       "\n",
       "    .dataframe tbody tr th {\n",
       "        vertical-align: top;\n",
       "    }\n",
       "\n",
       "    .dataframe thead th {\n",
       "        text-align: right;\n",
       "    }\n",
       "</style>\n",
       "<table border=\"1\" class=\"dataframe\">\n",
       "  <thead>\n",
       "    <tr style=\"text-align: right;\">\n",
       "      <th></th>\n",
       "      <th>Source</th>\n",
       "      <th>Destination</th>\n",
       "      <th>Price</th>\n",
       "    </tr>\n",
       "  </thead>\n",
       "  <tbody>\n",
       "    <tr>\n",
       "      <th>0</th>\n",
       "      <td>Banglore</td>\n",
       "      <td>Delhi</td>\n",
       "      <td>5143.918577</td>\n",
       "    </tr>\n",
       "    <tr>\n",
       "      <th>1</th>\n",
       "      <td>Banglore</td>\n",
       "      <td>New Delhi</td>\n",
       "      <td>11917.716738</td>\n",
       "    </tr>\n",
       "    <tr>\n",
       "      <th>2</th>\n",
       "      <td>Chennai</td>\n",
       "      <td>Kolkata</td>\n",
       "      <td>4789.892388</td>\n",
       "    </tr>\n",
       "    <tr>\n",
       "      <th>3</th>\n",
       "      <td>Delhi</td>\n",
       "      <td>Cochin</td>\n",
       "      <td>10540.113536</td>\n",
       "    </tr>\n",
       "    <tr>\n",
       "      <th>4</th>\n",
       "      <td>Kolkata</td>\n",
       "      <td>Banglore</td>\n",
       "      <td>9158.389411</td>\n",
       "    </tr>\n",
       "    <tr>\n",
       "      <th>5</th>\n",
       "      <td>Mumbai</td>\n",
       "      <td>Hyderabad</td>\n",
       "      <td>5042.083333</td>\n",
       "    </tr>\n",
       "  </tbody>\n",
       "</table>\n",
       "</div>"
      ],
      "text/plain": [
       "     Source Destination         Price\n",
       "0  Banglore       Delhi   5143.918577\n",
       "1  Banglore   New Delhi  11917.716738\n",
       "2   Chennai     Kolkata   4789.892388\n",
       "3     Delhi      Cochin  10540.113536\n",
       "4   Kolkata    Banglore   9158.389411\n",
       "5    Mumbai   Hyderabad   5042.083333"
      ]
     },
<<<<<<< HEAD
     "execution_count": 37,
=======
     "execution_count": 38,
>>>>>>> main
     "metadata": {},
     "output_type": "execute_result"
    }
   ],
   "source": [
    "average_price = df.groupby(['Source','Destination'])['Price'].mean().reset_index()\n",
    "average_price"
   ]
  },
  {
   "cell_type": "code",
<<<<<<< HEAD
   "execution_count": 38,
=======
   "execution_count": 39,
   "metadata": {},
   "outputs": [
    {
     "name": "stdout",
     "output_type": "stream",
     "text": [
      "1 stop      5625\n",
      "non-stop    3491\n",
      "2 stops     1519\n",
      "3 stops       45\n",
      "4 stops        1\n",
      "Name: Total_Stops, dtype: int64\n"
     ]
    }
   ],
   "source": [
    "print(df['Total_Stops'].value_counts())"
   ]
  },
  {
   "cell_type": "code",
   "execution_count": 40,
   "metadata": {},
   "outputs": [
    {
     "data": {
      "text/plain": [
       "Source    Destination  Total_Stops\n",
       "Banglore  Delhi        non-stop       1265\n",
       "          New Delhi    1 stop          562\n",
       "                       non-stop        287\n",
       "                       2 stops          75\n",
       "                       3 stops           7\n",
       "                       4 stops           1\n",
       "Chennai   Kolkata      non-stop        381\n",
       "Delhi     Cochin       1 stop         3185\n",
       "                       2 stops        1113\n",
       "                       non-stop        213\n",
       "                       3 stops          25\n",
       "Kolkata   Banglore     1 stop         1834\n",
       "                       non-stop        724\n",
       "                       2 stops         302\n",
       "                       3 stops          11\n",
       "Mumbai    Hyderabad    non-stop        621\n",
       "                       1 stop           44\n",
       "                       2 stops          29\n",
       "                       3 stops           2\n",
       "Name: Total_Stops, dtype: int64"
      ]
     },
     "execution_count": 40,
     "metadata": {},
     "output_type": "execute_result"
    }
   ],
   "source": [
    "df.groupby(['Source','Destination'])['Total_Stops'].value_counts()"
   ]
  },
  {
   "cell_type": "code",
   "execution_count": 41,
   "metadata": {},
   "outputs": [
    {
     "data": {
      "text/html": [
       "<div>\n",
       "<style scoped>\n",
       "    .dataframe tbody tr th:only-of-type {\n",
       "        vertical-align: middle;\n",
       "    }\n",
       "\n",
       "    .dataframe tbody tr th {\n",
       "        vertical-align: top;\n",
       "    }\n",
       "\n",
       "    .dataframe thead th {\n",
       "        text-align: right;\n",
       "    }\n",
       "</style>\n",
       "<table border=\"1\" class=\"dataframe\">\n",
       "  <thead>\n",
       "    <tr style=\"text-align: right;\">\n",
       "      <th></th>\n",
       "      <th>Source</th>\n",
       "      <th>Destination</th>\n",
       "      <th>Total_Stops</th>\n",
       "      <th>Price</th>\n",
       "    </tr>\n",
       "  </thead>\n",
       "  <tbody>\n",
       "    <tr>\n",
       "      <th>0</th>\n",
       "      <td>Banglore</td>\n",
       "      <td>New Delhi</td>\n",
       "      <td>1 stop</td>\n",
       "      <td>26890</td>\n",
       "    </tr>\n",
       "    <tr>\n",
       "      <th>1</th>\n",
       "      <td>Banglore</td>\n",
       "      <td>New Delhi</td>\n",
       "      <td>1 stop</td>\n",
       "      <td>7744</td>\n",
       "    </tr>\n",
       "    <tr>\n",
       "      <th>2</th>\n",
       "      <td>Banglore</td>\n",
       "      <td>New Delhi</td>\n",
       "      <td>1 stop</td>\n",
       "      <td>27992</td>\n",
       "    </tr>\n",
       "    <tr>\n",
       "      <th>3</th>\n",
       "      <td>Banglore</td>\n",
       "      <td>New Delhi</td>\n",
       "      <td>2 stops</td>\n",
       "      <td>17135</td>\n",
       "    </tr>\n",
       "    <tr>\n",
       "      <th>4</th>\n",
       "      <td>Banglore</td>\n",
       "      <td>New Delhi</td>\n",
       "      <td>1 stop</td>\n",
       "      <td>25735</td>\n",
       "    </tr>\n",
       "    <tr>\n",
       "      <th>...</th>\n",
       "      <td>...</td>\n",
       "      <td>...</td>\n",
       "      <td>...</td>\n",
       "      <td>...</td>\n",
       "    </tr>\n",
       "    <tr>\n",
       "      <th>10678</th>\n",
       "      <td>Delhi</td>\n",
       "      <td>Cochin</td>\n",
       "      <td>1 stop</td>\n",
       "      <td>11622</td>\n",
       "    </tr>\n",
       "    <tr>\n",
       "      <th>10679</th>\n",
       "      <td>Kolkata</td>\n",
       "      <td>Banglore</td>\n",
       "      <td>1 stop</td>\n",
       "      <td>5069</td>\n",
       "    </tr>\n",
       "    <tr>\n",
       "      <th>10680</th>\n",
       "      <td>Delhi</td>\n",
       "      <td>Cochin</td>\n",
       "      <td>1 stop</td>\n",
       "      <td>14714</td>\n",
       "    </tr>\n",
       "    <tr>\n",
       "      <th>10681</th>\n",
       "      <td>Kolkata</td>\n",
       "      <td>Banglore</td>\n",
       "      <td>1 stop</td>\n",
       "      <td>5192</td>\n",
       "    </tr>\n",
       "    <tr>\n",
       "      <th>10682</th>\n",
       "      <td>Delhi</td>\n",
       "      <td>Cochin</td>\n",
       "      <td>1 stop</td>\n",
       "      <td>10262</td>\n",
       "    </tr>\n",
       "  </tbody>\n",
       "</table>\n",
       "<p>10681 rows × 4 columns</p>\n",
       "</div>"
      ],
      "text/plain": [
       "         Source Destination Total_Stops  Price\n",
       "0      Banglore   New Delhi      1 stop  26890\n",
       "1      Banglore   New Delhi      1 stop   7744\n",
       "2      Banglore   New Delhi      1 stop  27992\n",
       "3      Banglore   New Delhi     2 stops  17135\n",
       "4      Banglore   New Delhi      1 stop  25735\n",
       "...         ...         ...         ...    ...\n",
       "10678     Delhi      Cochin      1 stop  11622\n",
       "10679   Kolkata    Banglore      1 stop   5069\n",
       "10680     Delhi      Cochin      1 stop  14714\n",
       "10681   Kolkata    Banglore      1 stop   5192\n",
       "10682     Delhi      Cochin      1 stop  10262\n",
       "\n",
       "[10681 rows x 4 columns]"
      ]
     },
     "execution_count": 41,
     "metadata": {},
     "output_type": "execute_result"
    }
   ],
   "source": [
    "df1=df.drop(['Airline', 'index', 'Date_of_Journey', 'Route', 'Dep_Time', 'Arrival_Time', 'Duration', 'Months'], axis=1)\n",
    "df1"
   ]
  },
  {
   "cell_type": "code",
   "execution_count": 51,
   "metadata": {},
   "outputs": [
    {
     "data": {
      "text/html": [
       "<div>\n",
       "<style scoped>\n",
       "    .dataframe tbody tr th:only-of-type {\n",
       "        vertical-align: middle;\n",
       "    }\n",
       "\n",
       "    .dataframe tbody tr th {\n",
       "        vertical-align: top;\n",
       "    }\n",
       "\n",
       "    .dataframe thead th {\n",
       "        text-align: right;\n",
       "    }\n",
       "</style>\n",
       "<table border=\"1\" class=\"dataframe\">\n",
       "  <thead>\n",
       "    <tr style=\"text-align: right;\">\n",
       "      <th></th>\n",
       "      <th>Source</th>\n",
       "      <th>Destination</th>\n",
       "      <th>Total_Stops</th>\n",
       "      <th>Price</th>\n",
       "    </tr>\n",
       "  </thead>\n",
       "  <tbody>\n",
       "    <tr>\n",
       "      <th>0</th>\n",
       "      <td>Banglore</td>\n",
       "      <td>Delhi</td>\n",
       "      <td>non-stop</td>\n",
       "      <td>5144.0</td>\n",
       "    </tr>\n",
       "    <tr>\n",
       "      <th>1</th>\n",
       "      <td>Banglore</td>\n",
       "      <td>New Delhi</td>\n",
       "      <td>1 stop</td>\n",
       "      <td>14017.0</td>\n",
       "    </tr>\n",
       "    <tr>\n",
       "      <th>2</th>\n",
       "      <td>Banglore</td>\n",
       "      <td>New Delhi</td>\n",
       "      <td>2 stops</td>\n",
       "      <td>13323.0</td>\n",
       "    </tr>\n",
       "    <tr>\n",
       "      <th>3</th>\n",
       "      <td>Banglore</td>\n",
       "      <td>New Delhi</td>\n",
       "      <td>3 stops</td>\n",
       "      <td>12761.0</td>\n",
       "    </tr>\n",
       "    <tr>\n",
       "      <th>4</th>\n",
       "      <td>Banglore</td>\n",
       "      <td>New Delhi</td>\n",
       "      <td>4 stops</td>\n",
       "      <td>17686.0</td>\n",
       "    </tr>\n",
       "    <tr>\n",
       "      <th>5</th>\n",
       "      <td>Banglore</td>\n",
       "      <td>New Delhi</td>\n",
       "      <td>non-stop</td>\n",
       "      <td>7400.0</td>\n",
       "    </tr>\n",
       "    <tr>\n",
       "      <th>6</th>\n",
       "      <td>Chennai</td>\n",
       "      <td>Kolkata</td>\n",
       "      <td>non-stop</td>\n",
       "      <td>4790.0</td>\n",
       "    </tr>\n",
       "    <tr>\n",
       "      <th>7</th>\n",
       "      <td>Delhi</td>\n",
       "      <td>Cochin</td>\n",
       "      <td>1 stop</td>\n",
       "      <td>10031.0</td>\n",
       "    </tr>\n",
       "    <tr>\n",
       "      <th>8</th>\n",
       "      <td>Delhi</td>\n",
       "      <td>Cochin</td>\n",
       "      <td>2 stops</td>\n",
       "      <td>12752.0</td>\n",
       "    </tr>\n",
       "    <tr>\n",
       "      <th>9</th>\n",
       "      <td>Delhi</td>\n",
       "      <td>Cochin</td>\n",
       "      <td>3 stops</td>\n",
       "      <td>12940.0</td>\n",
       "    </tr>\n",
       "    <tr>\n",
       "      <th>10</th>\n",
       "      <td>Delhi</td>\n",
       "      <td>Cochin</td>\n",
       "      <td>non-stop</td>\n",
       "      <td>6316.0</td>\n",
       "    </tr>\n",
       "    <tr>\n",
       "      <th>11</th>\n",
       "      <td>Kolkata</td>\n",
       "      <td>Banglore</td>\n",
       "      <td>1 stop</td>\n",
       "      <td>10477.0</td>\n",
       "    </tr>\n",
       "    <tr>\n",
       "      <th>12</th>\n",
       "      <td>Kolkata</td>\n",
       "      <td>Banglore</td>\n",
       "      <td>2 stops</td>\n",
       "      <td>12036.0</td>\n",
       "    </tr>\n",
       "    <tr>\n",
       "      <th>13</th>\n",
       "      <td>Kolkata</td>\n",
       "      <td>Banglore</td>\n",
       "      <td>3 stops</td>\n",
       "      <td>13151.0</td>\n",
       "    </tr>\n",
       "    <tr>\n",
       "      <th>14</th>\n",
       "      <td>Kolkata</td>\n",
       "      <td>Banglore</td>\n",
       "      <td>non-stop</td>\n",
       "      <td>4556.0</td>\n",
       "    </tr>\n",
       "    <tr>\n",
       "      <th>15</th>\n",
       "      <td>Mumbai</td>\n",
       "      <td>Hyderabad</td>\n",
       "      <td>1 stop</td>\n",
       "      <td>12520.0</td>\n",
       "    </tr>\n",
       "    <tr>\n",
       "      <th>16</th>\n",
       "      <td>Mumbai</td>\n",
       "      <td>Hyderabad</td>\n",
       "      <td>2 stops</td>\n",
       "      <td>16675.0</td>\n",
       "    </tr>\n",
       "    <tr>\n",
       "      <th>17</th>\n",
       "      <td>Mumbai</td>\n",
       "      <td>Hyderabad</td>\n",
       "      <td>3 stops</td>\n",
       "      <td>16276.0</td>\n",
       "    </tr>\n",
       "    <tr>\n",
       "      <th>18</th>\n",
       "      <td>Mumbai</td>\n",
       "      <td>Hyderabad</td>\n",
       "      <td>non-stop</td>\n",
       "      <td>3933.0</td>\n",
       "    </tr>\n",
       "  </tbody>\n",
       "</table>\n",
       "</div>"
      ],
      "text/plain": [
       "      Source Destination Total_Stops    Price\n",
       "0   Banglore       Delhi    non-stop   5144.0\n",
       "1   Banglore   New Delhi      1 stop  14017.0\n",
       "2   Banglore   New Delhi     2 stops  13323.0\n",
       "3   Banglore   New Delhi     3 stops  12761.0\n",
       "4   Banglore   New Delhi     4 stops  17686.0\n",
       "5   Banglore   New Delhi    non-stop   7400.0\n",
       "6    Chennai     Kolkata    non-stop   4790.0\n",
       "7      Delhi      Cochin      1 stop  10031.0\n",
       "8      Delhi      Cochin     2 stops  12752.0\n",
       "9      Delhi      Cochin     3 stops  12940.0\n",
       "10     Delhi      Cochin    non-stop   6316.0\n",
       "11   Kolkata    Banglore      1 stop  10477.0\n",
       "12   Kolkata    Banglore     2 stops  12036.0\n",
       "13   Kolkata    Banglore     3 stops  13151.0\n",
       "14   Kolkata    Banglore    non-stop   4556.0\n",
       "15    Mumbai   Hyderabad      1 stop  12520.0\n",
       "16    Mumbai   Hyderabad     2 stops  16675.0\n",
       "17    Mumbai   Hyderabad     3 stops  16276.0\n",
       "18    Mumbai   Hyderabad    non-stop   3933.0"
      ]
     },
     "execution_count": 51,
     "metadata": {},
     "output_type": "execute_result"
    }
   ],
   "source": [
    "df1=df1.groupby(['Source', 'Destination', 'Total_Stops'])['Price'].mean().reset_index()\n",
    "df1['Price']=df1['Price'].round()\n",
    "df1"
   ]
  },
  {
   "cell_type": "code",
   "execution_count": 43,
   "metadata": {},
   "outputs": [
    {
     "data": {
      "text/html": [
       "<div>\n",
       "<style scoped>\n",
       "    .dataframe tbody tr th:only-of-type {\n",
       "        vertical-align: middle;\n",
       "    }\n",
       "\n",
       "    .dataframe tbody tr th {\n",
       "        vertical-align: top;\n",
       "    }\n",
       "\n",
       "    .dataframe thead th {\n",
       "        text-align: right;\n",
       "    }\n",
       "</style>\n",
       "<table border=\"1\" class=\"dataframe\">\n",
       "  <thead>\n",
       "    <tr style=\"text-align: right;\">\n",
       "      <th></th>\n",
       "      <th>Source</th>\n",
       "      <th>Destination</th>\n",
       "      <th>Total_Stops</th>\n",
       "      <th>Price</th>\n",
       "    </tr>\n",
       "  </thead>\n",
       "  <tbody>\n",
       "    <tr>\n",
       "      <th>1</th>\n",
       "      <td>Banglore</td>\n",
       "      <td>New Delhi</td>\n",
       "      <td>1 stop</td>\n",
       "      <td>14017.0</td>\n",
       "    </tr>\n",
       "    <tr>\n",
       "      <th>2</th>\n",
       "      <td>Banglore</td>\n",
       "      <td>New Delhi</td>\n",
       "      <td>2 stops</td>\n",
       "      <td>13323.0</td>\n",
       "    </tr>\n",
       "    <tr>\n",
       "      <th>3</th>\n",
       "      <td>Banglore</td>\n",
       "      <td>New Delhi</td>\n",
       "      <td>3 stops</td>\n",
       "      <td>12761.0</td>\n",
       "    </tr>\n",
       "    <tr>\n",
       "      <th>4</th>\n",
       "      <td>Banglore</td>\n",
       "      <td>New Delhi</td>\n",
       "      <td>4 stops</td>\n",
       "      <td>17686.0</td>\n",
       "    </tr>\n",
       "    <tr>\n",
       "      <th>5</th>\n",
       "      <td>Banglore</td>\n",
       "      <td>New Delhi</td>\n",
       "      <td>non-stop</td>\n",
       "      <td>7400.0</td>\n",
       "    </tr>\n",
       "  </tbody>\n",
       "</table>\n",
       "</div>"
      ],
      "text/plain": [
       "     Source Destination Total_Stops    Price\n",
       "1  Banglore   New Delhi      1 stop  14017.0\n",
       "2  Banglore   New Delhi     2 stops  13323.0\n",
       "3  Banglore   New Delhi     3 stops  12761.0\n",
       "4  Banglore   New Delhi     4 stops  17686.0\n",
       "5  Banglore   New Delhi    non-stop   7400.0"
      ]
     },
     "execution_count": 43,
     "metadata": {},
     "output_type": "execute_result"
    }
   ],
   "source": [
    "Banglore_New_Delhi=df1.drop([0, 6, 7, 8, 9, 10, 11, 12, 13, 14, 15, 16, 17, 18])\n",
    "Banglore_New_Delhi"
   ]
  },
  {
   "cell_type": "code",
   "execution_count": 52,
   "metadata": {},
   "outputs": [
    {
     "data": {
      "text/plain": [
       "Text(0.5, 1.0, 'Average Ticket Price / Number of Stops Comparison(Banglore_New Delhi)')"
      ]
     },
     "execution_count": 52,
     "metadata": {},
     "output_type": "execute_result"
    },
    {
     "data": {
      "image/png": "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",
      "text/plain": [
       "<Figure size 640x480 with 1 Axes>"
      ]
     },
     "metadata": {},
     "output_type": "display_data"
    }
   ],
   "source": [
    "plt.bar(Banglore_New_Delhi['Total_Stops'],Banglore_New_Delhi['Price'])\n",
    "plt.xlabel(\"Number Of Stops\")\n",
    "plt.ylabel(\"Average Ticket Price (Indian Rupees)\")\n",
    "plt.title(\"Average Ticket Price / Number of Stops Comparison(Banglore_New Delhi)\")"
   ]
  },
  {
   "cell_type": "code",
   "execution_count": 44,
   "metadata": {},
   "outputs": [
    {
     "data": {
      "text/html": [
       "<div>\n",
       "<style scoped>\n",
       "    .dataframe tbody tr th:only-of-type {\n",
       "        vertical-align: middle;\n",
       "    }\n",
       "\n",
       "    .dataframe tbody tr th {\n",
       "        vertical-align: top;\n",
       "    }\n",
       "\n",
       "    .dataframe thead th {\n",
       "        text-align: right;\n",
       "    }\n",
       "</style>\n",
       "<table border=\"1\" class=\"dataframe\">\n",
       "  <thead>\n",
       "    <tr style=\"text-align: right;\">\n",
       "      <th></th>\n",
       "      <th>Source</th>\n",
       "      <th>Destination</th>\n",
       "      <th>Total_Stops</th>\n",
       "      <th>Price</th>\n",
       "    </tr>\n",
       "  </thead>\n",
       "  <tbody>\n",
       "    <tr>\n",
       "      <th>11</th>\n",
       "      <td>Kolkata</td>\n",
       "      <td>Banglore</td>\n",
       "      <td>1 stop</td>\n",
       "      <td>10477.0</td>\n",
       "    </tr>\n",
       "    <tr>\n",
       "      <th>12</th>\n",
       "      <td>Kolkata</td>\n",
       "      <td>Banglore</td>\n",
       "      <td>2 stops</td>\n",
       "      <td>12036.0</td>\n",
       "    </tr>\n",
       "    <tr>\n",
       "      <th>13</th>\n",
       "      <td>Kolkata</td>\n",
       "      <td>Banglore</td>\n",
       "      <td>3 stops</td>\n",
       "      <td>13151.0</td>\n",
       "    </tr>\n",
       "    <tr>\n",
       "      <th>14</th>\n",
       "      <td>Kolkata</td>\n",
       "      <td>Banglore</td>\n",
       "      <td>non-stop</td>\n",
       "      <td>4556.0</td>\n",
       "    </tr>\n",
       "  </tbody>\n",
       "</table>\n",
       "</div>"
      ],
      "text/plain": [
       "     Source Destination Total_Stops    Price\n",
       "11  Kolkata    Banglore      1 stop  10477.0\n",
       "12  Kolkata    Banglore     2 stops  12036.0\n",
       "13  Kolkata    Banglore     3 stops  13151.0\n",
       "14  Kolkata    Banglore    non-stop   4556.0"
      ]
     },
     "execution_count": 44,
     "metadata": {},
     "output_type": "execute_result"
    }
   ],
   "source": [
    "Kolkata_Banglore=df1.drop([0, 1, 2, 3, 4, 5, 6, 7, 8, 9, 10, 15, 16, 17, 18])\n",
    "Kolkata_Banglore"
   ]
  },
  {
   "cell_type": "code",
   "execution_count": 53,
   "metadata": {},
   "outputs": [
    {
     "data": {
      "text/plain": [
       "Text(0.5, 1.0, 'Average Ticket Price / Number of Stops Comparison(Kolkata_Banglore)')"
      ]
     },
     "execution_count": 53,
     "metadata": {},
     "output_type": "execute_result"
    },
    {
     "data": {
      "image/png": "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",
      "text/plain": [
       "<Figure size 640x480 with 1 Axes>"
      ]
     },
     "metadata": {},
     "output_type": "display_data"
    }
   ],
   "source": [
    "plt.bar(Kolkata_Banglore['Total_Stops'],Kolkata_Banglore['Price'])\n",
    "plt.xlabel(\"Number Of Stops\")\n",
    "plt.ylabel(\"Average Ticket Price (Indian Rupees)\")\n",
    "plt.title(\"Average Ticket Price / Number of Stops Comparison(Kolkata_Banglore)\")"
   ]
  },
  {
   "cell_type": "code",
   "execution_count": 45,
>>>>>>> main
   "metadata": {},
   "outputs": [
    {
     "data": {
      "text/html": [
       "<div>\n",
       "<style scoped>\n",
       "    .dataframe tbody tr th:only-of-type {\n",
       "        vertical-align: middle;\n",
       "    }\n",
       "\n",
       "    .dataframe tbody tr th {\n",
       "        vertical-align: top;\n",
       "    }\n",
       "\n",
       "    .dataframe thead th {\n",
       "        text-align: right;\n",
       "    }\n",
       "</style>\n",
       "<table border=\"1\" class=\"dataframe\">\n",
       "  <thead>\n",
       "    <tr style=\"text-align: right;\">\n",
       "      <th></th>\n",
       "      <th>Average Airline TIcket Price</th>\n",
       "    </tr>\n",
       "    <tr>\n",
       "      <th>Airline</th>\n",
       "      <th></th>\n",
       "    </tr>\n",
       "  </thead>\n",
       "  <tbody>\n",
       "    <tr>\n",
       "      <th>Air Asia</th>\n",
       "      <td>5590.260188</td>\n",
       "    </tr>\n",
       "    <tr>\n",
       "      <th>Air India</th>\n",
       "      <td>9608.019429</td>\n",
       "    </tr>\n",
       "    <tr>\n",
       "      <th>GoAir</th>\n",
       "      <td>5861.056701</td>\n",
       "    </tr>\n",
       "    <tr>\n",
       "      <th>IndiGo</th>\n",
       "      <td>5673.682903</td>\n",
       "    </tr>\n",
       "    <tr>\n",
       "      <th>Jet Airways</th>\n",
       "      <td>11643.923357</td>\n",
       "    </tr>\n",
       "    <tr>\n",
       "      <th>Jet Airways Business</th>\n",
       "      <td>58358.666667</td>\n",
       "    </tr>\n",
       "    <tr>\n",
       "      <th>Multiple carriers</th>\n",
       "      <td>10902.678094</td>\n",
       "    </tr>\n",
       "    <tr>\n",
       "      <th>Multiple carriers Premium economy</th>\n",
       "      <td>11418.846154</td>\n",
       "    </tr>\n",
       "    <tr>\n",
       "      <th>SpiceJet</th>\n",
       "      <td>4338.284841</td>\n",
       "    </tr>\n",
       "    <tr>\n",
       "      <th>Trujet</th>\n",
       "      <td>4140.000000</td>\n",
       "    </tr>\n",
       "    <tr>\n",
       "      <th>Vistara</th>\n",
       "      <td>7796.348643</td>\n",
       "    </tr>\n",
       "    <tr>\n",
       "      <th>Vistara Premium economy</th>\n",
       "      <td>8962.333333</td>\n",
       "    </tr>\n",
       "  </tbody>\n",
       "</table>\n",
       "</div>"
      ],
      "text/plain": [
       "                                   Average Airline TIcket Price\n",
       "Airline                                                        \n",
       "Air Asia                                            5590.260188\n",
       "Air India                                           9608.019429\n",
       "GoAir                                               5861.056701\n",
       "IndiGo                                              5673.682903\n",
       "Jet Airways                                        11643.923357\n",
       "Jet Airways Business                               58358.666667\n",
       "Multiple carriers                                  10902.678094\n",
       "Multiple carriers Premium economy                  11418.846154\n",
       "SpiceJet                                            4338.284841\n",
       "Trujet                                              4140.000000\n",
       "Vistara                                             7796.348643\n",
       "Vistara Premium economy                             8962.333333"
      ]
     },
<<<<<<< HEAD
     "execution_count": 38,
=======
     "execution_count": 45,
>>>>>>> main
     "metadata": {},
     "output_type": "execute_result"
    }
   ],
   "source": [
    "# finding the average price for each airline\n",
    "Average_Airline_price = df.groupby('Airline')['Price'].mean()\n",
    "\n",
    "summary_statistics = pd.DataFrame({\"Average Airline TIcket Price\":Average_Airline_price})\n",
    "summary_statistics\n",
    "\n"
   ]
  },
  {
   "cell_type": "code",
<<<<<<< HEAD
   "execution_count": 39,
=======
   "execution_count": null,
   "metadata": {},
   "outputs": [],
   "source": []
  },
  {
   "cell_type": "code",
   "execution_count": 46,
   "metadata": {},
   "outputs": [
    {
     "data": {
      "image/png": "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",
      "text/plain": [
       "<Figure size 1000x600 with 1 Axes>"
      ]
     },
     "metadata": {},
     "output_type": "display_data"
    }
   ],
   "source": [
    "# Create a list of 12 distinct colors\n",
    "colors = ['blue', 'salmon', 'lightgreen', 'gold', 'lightcoral', 'lightblue',\n",
    "          'coral', 'mediumseagreen', 'khaki', 'orchid', 'red', 'tomato']\n",
    "\n",
    "plt.figure(figsize=(10, 6))\n",
    "bar_chart = plt.bar(summary_statistics.index,summary_statistics['Average Airline TIcket Price'],color=colors)\n",
    "plt.title('Average Airline Ticket Prices')\n",
    "plt.xlabel('Airline')\n",
    "plt.ylabel('Average Price')\n",
    "plt.xticks(rotation=90, ha='right')  # Rotate x-axis labels for better readability\n",
    "plt.show()"
   ]
  },
  {
   "cell_type": "code",
   "execution_count": 47,
>>>>>>> main
   "metadata": {},
   "outputs": [
    {
     "data": {
      "text/plain": [
       "79512"
      ]
     },
<<<<<<< HEAD
     "execution_count": 39,
=======
     "execution_count": 47,
>>>>>>> main
     "metadata": {},
     "output_type": "execute_result"
    }
   ],
   "source": [
    "df['Price'].max()"
   ]
  },
  {
   "cell_type": "code",
<<<<<<< HEAD
   "execution_count": 40,
=======
   "execution_count": 48,
>>>>>>> main
   "metadata": {},
   "outputs": [
    {
     "data": {
      "text/plain": [
       "1759"
      ]
     },
<<<<<<< HEAD
     "execution_count": 40,
=======
     "execution_count": 48,
>>>>>>> main
     "metadata": {},
     "output_type": "execute_result"
    }
   ],
   "source": [
    "df['Price'].min()"
   ]
  },
  {
   "cell_type": "code",
<<<<<<< HEAD
   "execution_count": 41,
=======
   "execution_count": 49,
>>>>>>> main
   "metadata": {},
   "outputs": [
    {
     "data": {
      "text/html": [
       "<div>\n",
       "<style scoped>\n",
       "    .dataframe tbody tr th:only-of-type {\n",
       "        vertical-align: middle;\n",
       "    }\n",
       "\n",
       "    .dataframe tbody tr th {\n",
       "        vertical-align: top;\n",
       "    }\n",
       "\n",
       "    .dataframe thead th {\n",
       "        text-align: right;\n",
       "    }\n",
       "</style>\n",
       "<table border=\"1\" class=\"dataframe\">\n",
       "  <thead>\n",
       "    <tr style=\"text-align: right;\">\n",
       "      <th></th>\n",
       "      <th>index</th>\n",
       "      <th>Airline</th>\n",
       "      <th>Date_of_Journey</th>\n",
       "      <th>Source</th>\n",
       "      <th>Destination</th>\n",
       "      <th>Route</th>\n",
       "      <th>Dep_Time</th>\n",
       "      <th>Arrival_Time</th>\n",
       "      <th>Duration</th>\n",
       "      <th>Total_Stops</th>\n",
       "      <th>Price</th>\n",
       "      <th>Months</th>\n",
       "      <th>Price_bins</th>\n",
       "    </tr>\n",
       "  </thead>\n",
       "  <tbody>\n",
       "    <tr>\n",
       "      <th>10673</th>\n",
       "      <td>6011</td>\n",
       "      <td>Multiple carriers</td>\n",
       "      <td>2019-12-06</td>\n",
       "      <td>Delhi</td>\n",
       "      <td>Cochin</td>\n",
       "      <td>DEL - BOM - COK</td>\n",
       "      <td>19:00</td>\n",
       "      <td>01:30 13 Jun</td>\n",
       "      <td>6.50</td>\n",
       "      <td>1 stop</td>\n",
       "      <td>6795</td>\n",
       "      <td>12</td>\n",
       "      <td>Cheap</td>\n",
       "    </tr>\n",
       "    <tr>\n",
       "      <th>10674</th>\n",
       "      <td>2335</td>\n",
       "      <td>Jet Airways</td>\n",
       "      <td>2019-12-06</td>\n",
       "      <td>Kolkata</td>\n",
       "      <td>Banglore</td>\n",
       "      <td>CCU - BOM - BLR</td>\n",
       "      <td>20:00</td>\n",
       "      <td>12:00 13 Jun</td>\n",
       "      <td>16.00</td>\n",
       "      <td>1 stop</td>\n",
       "      <td>13044</td>\n",
       "      <td>12</td>\n",
       "      <td>Cheap</td>\n",
       "    </tr>\n",
       "    <tr>\n",
       "      <th>10675</th>\n",
       "      <td>3241</td>\n",
       "      <td>Jet Airways</td>\n",
       "      <td>2019-12-06</td>\n",
       "      <td>Kolkata</td>\n",
       "      <td>Banglore</td>\n",
       "      <td>CCU - GAU - BLR</td>\n",
       "      <td>10:20</td>\n",
       "      <td>17:35</td>\n",
       "      <td>7.25</td>\n",
       "      <td>1 stop</td>\n",
       "      <td>8355</td>\n",
       "      <td>12</td>\n",
       "      <td>Cheap</td>\n",
       "    </tr>\n",
       "    <tr>\n",
       "      <th>10676</th>\n",
       "      <td>9870</td>\n",
       "      <td>Jet Airways</td>\n",
       "      <td>2019-12-06</td>\n",
       "      <td>Kolkata</td>\n",
       "      <td>Banglore</td>\n",
       "      <td>CCU - BOM - BLR</td>\n",
       "      <td>16:30</td>\n",
       "      <td>12:00 13 Jun</td>\n",
       "      <td>19.50</td>\n",
       "      <td>1 stop</td>\n",
       "      <td>13044</td>\n",
       "      <td>12</td>\n",
       "      <td>Cheap</td>\n",
       "    </tr>\n",
       "    <tr>\n",
       "      <th>10677</th>\n",
       "      <td>7242</td>\n",
       "      <td>Jet Airways</td>\n",
       "      <td>2019-12-06</td>\n",
       "      <td>Kolkata</td>\n",
       "      <td>Banglore</td>\n",
       "      <td>CCU - BOM - BLR</td>\n",
       "      <td>14:05</td>\n",
       "      <td>20:45</td>\n",
       "      <td>6.67</td>\n",
       "      <td>1 stop</td>\n",
       "      <td>9899</td>\n",
       "      <td>12</td>\n",
       "      <td>Cheap</td>\n",
       "    </tr>\n",
       "    <tr>\n",
       "      <th>10678</th>\n",
       "      <td>9873</td>\n",
       "      <td>Multiple carriers</td>\n",
       "      <td>2019-12-06</td>\n",
       "      <td>Delhi</td>\n",
       "      <td>Cochin</td>\n",
       "      <td>DEL - BOM - COK</td>\n",
       "      <td>09:15</td>\n",
       "      <td>19:00</td>\n",
       "      <td>9.75</td>\n",
       "      <td>1 stop</td>\n",
       "      <td>11622</td>\n",
       "      <td>12</td>\n",
       "      <td>Cheap</td>\n",
       "    </tr>\n",
       "    <tr>\n",
       "      <th>10679</th>\n",
       "      <td>5993</td>\n",
       "      <td>IndiGo</td>\n",
       "      <td>2019-12-06</td>\n",
       "      <td>Kolkata</td>\n",
       "      <td>Banglore</td>\n",
       "      <td>CCU - MAA - BLR</td>\n",
       "      <td>08:10</td>\n",
       "      <td>13:00</td>\n",
       "      <td>4.83</td>\n",
       "      <td>1 stop</td>\n",
       "      <td>5069</td>\n",
       "      <td>12</td>\n",
       "      <td>Cheap</td>\n",
       "    </tr>\n",
       "    <tr>\n",
       "      <th>10680</th>\n",
       "      <td>7260</td>\n",
       "      <td>Jet Airways</td>\n",
       "      <td>2019-12-06</td>\n",
       "      <td>Delhi</td>\n",
       "      <td>Cochin</td>\n",
       "      <td>DEL - BOM - COK</td>\n",
       "      <td>22:50</td>\n",
       "      <td>19:00 13 Jun</td>\n",
       "      <td>20.17</td>\n",
       "      <td>1 stop</td>\n",
       "      <td>14714</td>\n",
       "      <td>12</td>\n",
       "      <td>Cheap</td>\n",
       "    </tr>\n",
       "    <tr>\n",
       "      <th>10681</th>\n",
       "      <td>4997</td>\n",
       "      <td>Air Asia</td>\n",
       "      <td>2019-12-06</td>\n",
       "      <td>Kolkata</td>\n",
       "      <td>Banglore</td>\n",
       "      <td>CCU - DEL - BLR</td>\n",
       "      <td>07:35</td>\n",
       "      <td>23:30</td>\n",
       "      <td>15.92</td>\n",
       "      <td>1 stop</td>\n",
       "      <td>5192</td>\n",
       "      <td>12</td>\n",
       "      <td>Cheap</td>\n",
       "    </tr>\n",
       "    <tr>\n",
       "      <th>10682</th>\n",
       "      <td>1081</td>\n",
       "      <td>Jet Airways</td>\n",
       "      <td>2019-12-06</td>\n",
       "      <td>Delhi</td>\n",
       "      <td>Cochin</td>\n",
       "      <td>DEL - BOM - COK</td>\n",
       "      <td>21:50</td>\n",
       "      <td>04:25 13 Jun</td>\n",
       "      <td>6.58</td>\n",
       "      <td>1 stop</td>\n",
       "      <td>10262</td>\n",
       "      <td>12</td>\n",
       "      <td>Cheap</td>\n",
       "    </tr>\n",
       "  </tbody>\n",
       "</table>\n",
       "</div>"
      ],
      "text/plain": [
       "       index            Airline Date_of_Journey   Source Destination  \\\n",
       "10673   6011  Multiple carriers      2019-12-06    Delhi      Cochin   \n",
       "10674   2335        Jet Airways      2019-12-06  Kolkata    Banglore   \n",
       "10675   3241        Jet Airways      2019-12-06  Kolkata    Banglore   \n",
       "10676   9870        Jet Airways      2019-12-06  Kolkata    Banglore   \n",
       "10677   7242        Jet Airways      2019-12-06  Kolkata    Banglore   \n",
       "10678   9873  Multiple carriers      2019-12-06    Delhi      Cochin   \n",
       "10679   5993             IndiGo      2019-12-06  Kolkata    Banglore   \n",
       "10680   7260        Jet Airways      2019-12-06    Delhi      Cochin   \n",
       "10681   4997           Air Asia      2019-12-06  Kolkata    Banglore   \n",
       "10682   1081        Jet Airways      2019-12-06    Delhi      Cochin   \n",
       "\n",
       "                 Route Dep_Time  Arrival_Time  Duration Total_Stops  Price  \\\n",
       "10673  DEL - BOM - COK    19:00  01:30 13 Jun      6.50      1 stop   6795   \n",
       "10674  CCU - BOM - BLR    20:00  12:00 13 Jun     16.00      1 stop  13044   \n",
       "10675  CCU - GAU - BLR    10:20         17:35      7.25      1 stop   8355   \n",
       "10676  CCU - BOM - BLR    16:30  12:00 13 Jun     19.50      1 stop  13044   \n",
       "10677  CCU - BOM - BLR    14:05         20:45      6.67      1 stop   9899   \n",
       "10678  DEL - BOM - COK    09:15         19:00      9.75      1 stop  11622   \n",
       "10679  CCU - MAA - BLR    08:10         13:00      4.83      1 stop   5069   \n",
       "10680  DEL - BOM - COK    22:50  19:00 13 Jun     20.17      1 stop  14714   \n",
       "10681  CCU - DEL - BLR    07:35         23:30     15.92      1 stop   5192   \n",
       "10682  DEL - BOM - COK    21:50  04:25 13 Jun      6.58      1 stop  10262   \n",
       "\n",
       "       Months Price_bins  \n",
       "10673      12      Cheap  \n",
       "10674      12      Cheap  \n",
       "10675      12      Cheap  \n",
       "10676      12      Cheap  \n",
       "10677      12      Cheap  \n",
       "10678      12      Cheap  \n",
       "10679      12      Cheap  \n",
       "10680      12      Cheap  \n",
       "10681      12      Cheap  \n",
       "10682      12      Cheap  "
      ]
     },
<<<<<<< HEAD
     "execution_count": 41,
=======
     "execution_count": 49,
>>>>>>> main
     "metadata": {},
     "output_type": "execute_result"
    }
   ],
   "source": [
    "#Establish the bins\n",
    "\n",
    "size_bins = [1759,30000,60000,80000]\n",
    "\n",
    "#Create bin labels\n",
    "\n",
    "bin_labels = ['Cheap','Medium','Expensive']\n",
    "\n",
    "# Cut the data into bins\n",
    "df['Price_bins'] = pd.cut(df['Price'], bins=size_bins, labels=bin_labels, right=False)\n",
    "\n",
    "# Display the DataFrame with the new 'price_bins' column\n",
    "df.tail(10)"
   ]
  },
  {
   "cell_type": "code",
   "execution_count": null,
   "metadata": {},
   "outputs": [],
   "source": [
    "\n",
    "\n",
    "\n",
    "\n",
    "\n",
    "\n",
    "\n",
    "\n",
    "\n",
    "\n",
    "\n",
    "\n",
    "\n",
    "\n",
    "\n",
    "\n",
    "\n",
    "\n",
    "\n",
    "\n",
    "\n",
    "\n",
    "\n",
    "\n",
    "\n",
    "\n",
    "\n",
    "\n",
    "\n",
    "\n",
    "\n",
    "\n",
    "\n",
    "\n",
    "\n",
    "\n",
    "\n",
    "\n",
    "\n",
    "\n",
    "\n",
    "\n",
    "\n",
    "\n",
    "\n",
    "\n",
    "\n",
    "\n",
    "\n",
    "\n",
    "\n",
    "\n",
    "\n",
    "\n",
    "\n",
    "\n",
    "\n",
    "\n",
    "\n",
    "\n",
    "\n",
    "\n",
    "\n",
    "\n",
    "\n",
    "\n",
    "\n",
    "\n",
    "\n",
    "\n",
    "\n",
    "\n",
    "\n",
    "\n",
    "\n",
    "\n",
    "\n",
    "\n",
    "\n",
    "\n",
    "\n",
    "\n",
    "\n",
    "\n",
    "\n",
    "\n",
    "\n",
    "\n",
    "\n",
    "\n",
    "\n",
    "\n",
    "\n",
    "\n",
    "\n",
    "\n",
    "\n",
    "\n",
    "\n",
    "\n",
    "\n",
    "\n",
    "\n",
    "\n",
    "\n",
    "\n",
    "\n",
    "\n",
    "\n",
    "\n",
    "\n",
    "\n",
    "\n",
    "\n",
    "\n",
    "\n",
    "\n",
    "\n",
    "\n",
    "\n",
    "\n",
    "\n",
    "\n",
    "\n",
    "\n",
    "\n",
    "\n",
    "\n",
    "\n",
    "\n",
    "\n",
    "\n",
    "\n",
    "\n",
    "\n",
    "\n",
    "\n",
    "\n",
    "\n",
    "\n",
    "\n",
    "\n",
    "\n",
    "\n",
    "\n",
    "\n",
    "\n",
    "\n",
    "\n",
    "\n",
    "\n",
    "\n",
    "\n",
    "\n",
    "\n",
    "\n",
    "\n",
    "\n",
    "\n",
    "\n",
    "\n",
    "\n",
    "\n",
    "\n",
    "\n",
    "\n",
    "\n",
    "\n",
    "\n",
    "\n",
    "\n",
    "\n",
    "\n",
    "\n",
    "\n",
    "\n",
    "\n",
    "\n",
    "\n",
    "\n",
    "\n",
    "\n",
    "\n",
    "\n",
    "\n",
    "\n",
    "\n",
    "\n",
    "\n",
    "\n",
    "\n",
    "\n"
   ]
  }
 ],
 "metadata": {
  "kernelspec": {
   "display_name": "Python 3 (ipykernel)",
   "language": "python",
   "name": "python3"
  },
  "language_info": {
   "codemirror_mode": {
    "name": "ipython",
    "version": 3
   },
   "file_extension": ".py",
   "mimetype": "text/x-python",
   "name": "python",
   "nbconvert_exporter": "python",
   "pygments_lexer": "ipython3",
   "version": "3.11.4"
  }
 },
 "nbformat": 4,
 "nbformat_minor": 2
}
