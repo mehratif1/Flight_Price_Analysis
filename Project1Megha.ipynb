{
 "cells": [
  {
   "cell_type": "markdown",
   "metadata": {},
   "source": [
    "# 1. DATA COLLECTION AND ANALYSIS"
   ]
  },
  {
   "cell_type": "code",
   "execution_count": 1,
   "metadata": {},
   "outputs": [],
   "source": [
    "import pandas as pd\n",
    "import statistics as st\n",
    "import matplotlib_inline as plt\n",
    "import matplotlib.pyplot as plt\n",
    "import numpy as np\n",
    "import seaborn as sns\n",
    "#adding warning"
   ]
  },
  {
   "cell_type": "code",
   "execution_count": 2,
   "metadata": {},
   "outputs": [],
   "source": [
    "pd.read_excel(\"Data_Train.xlsx\").to_csv(\"Data_Train1.csv\", index=False)"
   ]
  },
  {
   "cell_type": "code",
   "execution_count": 3,
   "metadata": {},
   "outputs": [],
   "source": [
    "df = pd.read_csv(\"Data_Train1.csv\")"
   ]
  },
  {
   "cell_type": "code",
   "execution_count": 4,
   "metadata": {},
   "outputs": [
    {
     "data": {
      "text/html": [
       "<div>\n",
       "<style scoped>\n",
       "    .dataframe tbody tr th:only-of-type {\n",
       "        vertical-align: middle;\n",
       "    }\n",
       "\n",
       "    .dataframe tbody tr th {\n",
       "        vertical-align: top;\n",
       "    }\n",
       "\n",
       "    .dataframe thead th {\n",
       "        text-align: right;\n",
       "    }\n",
       "</style>\n",
       "<table border=\"1\" class=\"dataframe\">\n",
       "  <thead>\n",
       "    <tr style=\"text-align: right;\">\n",
       "      <th></th>\n",
       "      <th>Airline</th>\n",
       "      <th>Date_of_Journey</th>\n",
       "      <th>Source</th>\n",
       "      <th>Destination</th>\n",
       "      <th>Route</th>\n",
       "      <th>Dep_Time</th>\n",
       "      <th>Arrival_Time</th>\n",
       "      <th>Duration</th>\n",
       "      <th>Total_Stops</th>\n",
       "      <th>Additional_Info</th>\n",
       "      <th>Price</th>\n",
       "    </tr>\n",
       "  </thead>\n",
       "  <tbody>\n",
       "    <tr>\n",
       "      <th>0</th>\n",
       "      <td>IndiGo</td>\n",
       "      <td>24/03/2019</td>\n",
       "      <td>Banglore</td>\n",
       "      <td>New Delhi</td>\n",
       "      <td>BLR → DEL</td>\n",
       "      <td>22:20</td>\n",
       "      <td>01:10 22 Mar</td>\n",
       "      <td>2h 50m</td>\n",
       "      <td>non-stop</td>\n",
       "      <td>No info</td>\n",
       "      <td>3897</td>\n",
       "    </tr>\n",
       "    <tr>\n",
       "      <th>1</th>\n",
       "      <td>Air India</td>\n",
       "      <td>1/05/2019</td>\n",
       "      <td>Kolkata</td>\n",
       "      <td>Banglore</td>\n",
       "      <td>CCU → IXR → BBI → BLR</td>\n",
       "      <td>05:50</td>\n",
       "      <td>13:15</td>\n",
       "      <td>7h 25m</td>\n",
       "      <td>2 stops</td>\n",
       "      <td>No info</td>\n",
       "      <td>7662</td>\n",
       "    </tr>\n",
       "    <tr>\n",
       "      <th>2</th>\n",
       "      <td>Jet Airways</td>\n",
       "      <td>9/06/2019</td>\n",
       "      <td>Delhi</td>\n",
       "      <td>Cochin</td>\n",
       "      <td>DEL → LKO → BOM → COK</td>\n",
       "      <td>09:25</td>\n",
       "      <td>04:25 10 Jun</td>\n",
       "      <td>19h</td>\n",
       "      <td>2 stops</td>\n",
       "      <td>No info</td>\n",
       "      <td>13882</td>\n",
       "    </tr>\n",
       "    <tr>\n",
       "      <th>3</th>\n",
       "      <td>IndiGo</td>\n",
       "      <td>12/05/2019</td>\n",
       "      <td>Kolkata</td>\n",
       "      <td>Banglore</td>\n",
       "      <td>CCU → NAG → BLR</td>\n",
       "      <td>18:05</td>\n",
       "      <td>23:30</td>\n",
       "      <td>5h 25m</td>\n",
       "      <td>1 stop</td>\n",
       "      <td>No info</td>\n",
       "      <td>6218</td>\n",
       "    </tr>\n",
       "    <tr>\n",
       "      <th>4</th>\n",
       "      <td>IndiGo</td>\n",
       "      <td>01/03/2019</td>\n",
       "      <td>Banglore</td>\n",
       "      <td>New Delhi</td>\n",
       "      <td>BLR → NAG → DEL</td>\n",
       "      <td>16:50</td>\n",
       "      <td>21:35</td>\n",
       "      <td>4h 45m</td>\n",
       "      <td>1 stop</td>\n",
       "      <td>No info</td>\n",
       "      <td>13302</td>\n",
       "    </tr>\n",
       "  </tbody>\n",
       "</table>\n",
       "</div>"
      ],
      "text/plain": [
       "       Airline Date_of_Journey    Source Destination                  Route  \\\n",
       "0       IndiGo      24/03/2019  Banglore   New Delhi              BLR → DEL   \n",
       "1    Air India       1/05/2019   Kolkata    Banglore  CCU → IXR → BBI → BLR   \n",
       "2  Jet Airways       9/06/2019     Delhi      Cochin  DEL → LKO → BOM → COK   \n",
       "3       IndiGo      12/05/2019   Kolkata    Banglore        CCU → NAG → BLR   \n",
       "4       IndiGo      01/03/2019  Banglore   New Delhi        BLR → NAG → DEL   \n",
       "\n",
       "  Dep_Time  Arrival_Time Duration Total_Stops Additional_Info  Price  \n",
       "0    22:20  01:10 22 Mar   2h 50m    non-stop         No info   3897  \n",
       "1    05:50         13:15   7h 25m     2 stops         No info   7662  \n",
       "2    09:25  04:25 10 Jun      19h     2 stops         No info  13882  \n",
       "3    18:05         23:30   5h 25m      1 stop         No info   6218  \n",
       "4    16:50         21:35   4h 45m      1 stop         No info  13302  "
      ]
     },
     "execution_count": 4,
     "metadata": {},
     "output_type": "execute_result"
    }
   ],
   "source": [
    "df.head()"
   ]
  },
  {
   "cell_type": "code",
   "execution_count": 5,
   "metadata": {},
   "outputs": [
    {
     "name": "stdout",
     "output_type": "stream",
     "text": [
      "(10683, 11)\n"
     ]
    }
   ],
   "source": [
    "print(df.shape)"
   ]
  },
  {
   "cell_type": "code",
   "execution_count": 6,
   "metadata": {},
   "outputs": [
    {
     "name": "stdout",
     "output_type": "stream",
     "text": [
      "Airline            object\n",
      "Date_of_Journey    object\n",
      "Source             object\n",
      "Destination        object\n",
      "Route              object\n",
      "Dep_Time           object\n",
      "Arrival_Time       object\n",
      "Duration           object\n",
      "Total_Stops        object\n",
      "Additional_Info    object\n",
      "Price               int64\n",
      "dtype: object\n"
     ]
    }
   ],
   "source": [
    "print(df.dtypes)"
   ]
  },
  {
   "cell_type": "code",
   "execution_count": 7,
   "metadata": {},
   "outputs": [],
   "source": [
    "df[\"Route\"] = df[\"Route\"].astype(\"str\").str.replace(\"→\", \"-\")"
   ]
  },
  {
   "cell_type": "code",
   "execution_count": 8,
   "metadata": {},
   "outputs": [],
   "source": [
    "# df[\"Dep_Time\"] = df[\"Dep_Time\"].astype(\"str\").str.replace(\":\", \".\").astype(\"float\")"
   ]
  },
  {
   "cell_type": "code",
   "execution_count": 9,
   "metadata": {},
   "outputs": [
    {
     "name": "stderr",
     "output_type": "stream",
     "text": [
      "C:\\Users\\suraj\\AppData\\Local\\Temp\\ipykernel_19984\\1954500797.py:1: UserWarning: Parsing dates in DD/MM/YYYY format when dayfirst=False (the default) was specified. This may lead to inconsistently parsed dates! Specify a format to ensure consistent parsing.\n",
      "  df[\"Date_of_Journey\"] = pd.to_datetime(df[\"Date_of_Journey\"])\n"
     ]
    }
   ],
   "source": [
    "df[\"Date_of_Journey\"] = pd.to_datetime(df[\"Date_of_Journey\"])"
   ]
  },
  {
   "cell_type": "code",
   "execution_count": 10,
   "metadata": {},
   "outputs": [],
   "source": [
    "df = df.sort_values(by = \"Date_of_Journey\", ascending= True).reset_index()"
   ]
  },
  {
   "cell_type": "code",
   "execution_count": 11,
   "metadata": {},
   "outputs": [
    {
     "name": "stdout",
     "output_type": "stream",
     "text": [
      "index              0\n",
      "Airline            0\n",
      "Date_of_Journey    0\n",
      "Source             0\n",
      "Destination        0\n",
      "Route              0\n",
      "Dep_Time           0\n",
      "Arrival_Time       0\n",
      "Duration           0\n",
      "Total_Stops        1\n",
      "Additional_Info    0\n",
      "Price              0\n",
      "dtype: int64\n"
     ]
    }
   ],
   "source": [
    "print(df.isna().sum())"
   ]
  },
  {
   "cell_type": "code",
   "execution_count": 12,
   "metadata": {},
   "outputs": [],
   "source": [
    "df.dropna(inplace = True)"
   ]
  },
  {
   "cell_type": "code",
   "execution_count": 13,
   "metadata": {},
   "outputs": [
    {
     "data": {
      "text/plain": [
       "index              0\n",
       "Airline            0\n",
       "Date_of_Journey    0\n",
       "Source             0\n",
       "Destination        0\n",
       "Route              0\n",
       "Dep_Time           0\n",
       "Arrival_Time       0\n",
       "Duration           0\n",
       "Total_Stops        0\n",
       "Additional_Info    0\n",
       "Price              0\n",
       "dtype: int64"
      ]
     },
     "execution_count": 13,
     "metadata": {},
     "output_type": "execute_result"
    }
   ],
   "source": [
    "df.isnull().sum()"
   ]
  },
  {
   "cell_type": "code",
   "execution_count": 14,
   "metadata": {},
   "outputs": [
    {
     "data": {
      "text/html": [
       "<div>\n",
       "<style scoped>\n",
       "    .dataframe tbody tr th:only-of-type {\n",
       "        vertical-align: middle;\n",
       "    }\n",
       "\n",
       "    .dataframe tbody tr th {\n",
       "        vertical-align: top;\n",
       "    }\n",
       "\n",
       "    .dataframe thead th {\n",
       "        text-align: right;\n",
       "    }\n",
       "</style>\n",
       "<table border=\"1\" class=\"dataframe\">\n",
       "  <thead>\n",
       "    <tr style=\"text-align: right;\">\n",
       "      <th></th>\n",
       "      <th>index</th>\n",
       "      <th>Airline</th>\n",
       "      <th>Date_of_Journey</th>\n",
       "      <th>Source</th>\n",
       "      <th>Destination</th>\n",
       "      <th>Route</th>\n",
       "      <th>Dep_Time</th>\n",
       "      <th>Arrival_Time</th>\n",
       "      <th>Duration</th>\n",
       "      <th>Total_Stops</th>\n",
       "      <th>Additional_Info</th>\n",
       "      <th>Price</th>\n",
       "    </tr>\n",
       "  </thead>\n",
       "  <tbody>\n",
       "    <tr>\n",
       "      <th>0</th>\n",
       "      <td>959</td>\n",
       "      <td>Jet Airways</td>\n",
       "      <td>2019-01-03</td>\n",
       "      <td>Banglore</td>\n",
       "      <td>New Delhi</td>\n",
       "      <td>BLR - BOM - DEL</td>\n",
       "      <td>11:40</td>\n",
       "      <td>00:45 02 Mar</td>\n",
       "      <td>13h 5m</td>\n",
       "      <td>1 stop</td>\n",
       "      <td>No info</td>\n",
       "      <td>26890</td>\n",
       "    </tr>\n",
       "    <tr>\n",
       "      <th>1</th>\n",
       "      <td>6336</td>\n",
       "      <td>SpiceJet</td>\n",
       "      <td>2019-01-03</td>\n",
       "      <td>Banglore</td>\n",
       "      <td>New Delhi</td>\n",
       "      <td>BLR - HYD - DEL</td>\n",
       "      <td>15:35</td>\n",
       "      <td>23:40</td>\n",
       "      <td>8h 5m</td>\n",
       "      <td>1 stop</td>\n",
       "      <td>1 Long layover</td>\n",
       "      <td>7744</td>\n",
       "    </tr>\n",
       "    <tr>\n",
       "      <th>2</th>\n",
       "      <td>1654</td>\n",
       "      <td>Jet Airways</td>\n",
       "      <td>2019-01-03</td>\n",
       "      <td>Banglore</td>\n",
       "      <td>New Delhi</td>\n",
       "      <td>BLR - BOM - DEL</td>\n",
       "      <td>08:00</td>\n",
       "      <td>20:20</td>\n",
       "      <td>12h 20m</td>\n",
       "      <td>1 stop</td>\n",
       "      <td>No info</td>\n",
       "      <td>27992</td>\n",
       "    </tr>\n",
       "    <tr>\n",
       "      <th>3</th>\n",
       "      <td>6321</td>\n",
       "      <td>Air India</td>\n",
       "      <td>2019-01-03</td>\n",
       "      <td>Banglore</td>\n",
       "      <td>New Delhi</td>\n",
       "      <td>BLR - BOM - AMD - DEL</td>\n",
       "      <td>08:50</td>\n",
       "      <td>23:55 02 Mar</td>\n",
       "      <td>39h 5m</td>\n",
       "      <td>2 stops</td>\n",
       "      <td>No info</td>\n",
       "      <td>17135</td>\n",
       "    </tr>\n",
       "    <tr>\n",
       "      <th>4</th>\n",
       "      <td>6314</td>\n",
       "      <td>Jet Airways</td>\n",
       "      <td>2019-01-03</td>\n",
       "      <td>Banglore</td>\n",
       "      <td>New Delhi</td>\n",
       "      <td>BLR - BOM - DEL</td>\n",
       "      <td>11:40</td>\n",
       "      <td>11:25 02 Mar</td>\n",
       "      <td>23h 45m</td>\n",
       "      <td>1 stop</td>\n",
       "      <td>No info</td>\n",
       "      <td>25735</td>\n",
       "    </tr>\n",
       "  </tbody>\n",
       "</table>\n",
       "</div>"
      ],
      "text/plain": [
       "   index      Airline Date_of_Journey    Source Destination  \\\n",
       "0    959  Jet Airways      2019-01-03  Banglore   New Delhi   \n",
       "1   6336     SpiceJet      2019-01-03  Banglore   New Delhi   \n",
       "2   1654  Jet Airways      2019-01-03  Banglore   New Delhi   \n",
       "3   6321    Air India      2019-01-03  Banglore   New Delhi   \n",
       "4   6314  Jet Airways      2019-01-03  Banglore   New Delhi   \n",
       "\n",
       "                   Route Dep_Time  Arrival_Time Duration Total_Stops  \\\n",
       "0        BLR - BOM - DEL    11:40  00:45 02 Mar   13h 5m      1 stop   \n",
       "1        BLR - HYD - DEL    15:35         23:40    8h 5m      1 stop   \n",
       "2        BLR - BOM - DEL    08:00         20:20  12h 20m      1 stop   \n",
       "3  BLR - BOM - AMD - DEL    08:50  23:55 02 Mar   39h 5m     2 stops   \n",
       "4        BLR - BOM - DEL    11:40  11:25 02 Mar  23h 45m      1 stop   \n",
       "\n",
       "  Additional_Info  Price  \n",
       "0         No info  26890  \n",
       "1  1 Long layover   7744  \n",
       "2         No info  27992  \n",
       "3         No info  17135  \n",
       "4         No info  25735  "
      ]
     },
     "execution_count": 14,
     "metadata": {},
     "output_type": "execute_result"
    }
   ],
   "source": [
    "df.head(5)"
   ]
  },
  {
   "cell_type": "code",
   "execution_count": 15,
   "metadata": {},
   "outputs": [
    {
     "name": "stdout",
     "output_type": "stream",
     "text": [
      "Jet Airways                          3849\n",
      "IndiGo                               2053\n",
      "Air India                            1751\n",
      "Multiple carriers                    1196\n",
      "SpiceJet                              818\n",
      "Vistara                               479\n",
      "Air Asia                              319\n",
      "GoAir                                 194\n",
      "Multiple carriers Premium economy      13\n",
      "Jet Airways Business                    6\n",
      "Vistara Premium economy                 3\n",
      "Trujet                                  1\n",
      "Name: Airline, dtype: int64\n"
     ]
    }
   ],
   "source": [
    "print(df[\"Airline\"].value_counts())"
   ]
  },
  {
   "cell_type": "code",
   "execution_count": 16,
   "metadata": {},
   "outputs": [],
   "source": [
    "def newa(x):\n",
    "    if x=='Jet Airways Business':\n",
    "        return 'Jet Airways'\n",
    "    else:\n",
    "        return x\n",
    "df['Airline'] = df['Airline'].apply(newa)"
   ]
  },
  {
   "cell_type": "code",
   "execution_count": 17,
   "metadata": {},
   "outputs": [
    {
     "name": "stdout",
     "output_type": "stream",
     "text": [
      "Jet Airways                          3855\n",
      "IndiGo                               2053\n",
      "Air India                            1751\n",
      "Multiple carriers                    1196\n",
      "SpiceJet                              818\n",
      "Vistara                               479\n",
      "Air Asia                              319\n",
      "GoAir                                 194\n",
      "Multiple carriers Premium economy      13\n",
      "Vistara Premium economy                 3\n",
      "Trujet                                  1\n",
      "Name: Airline, dtype: int64\n"
     ]
    }
   ],
   "source": [
    "print(df[\"Airline\"].value_counts())"
   ]
  },
  {
   "cell_type": "code",
   "execution_count": 18,
   "metadata": {},
   "outputs": [
    {
     "name": "stdout",
     "output_type": "stream",
     "text": [
      "2019-01-03 00:00:00 2019-12-06 00:00:00 337 days 00:00:00\n"
     ]
    }
   ],
   "source": [
    "start_date = df.iloc[0, 2]\n",
    "end_date = df.iloc[10681, 2]\n",
    "diff_date = end_date - start_date\n",
    "print(start_date, end_date, diff_date)"
   ]
  },
  {
   "cell_type": "code",
   "execution_count": 19,
   "metadata": {},
   "outputs": [
    {
     "data": {
      "text/html": [
       "<div>\n",
       "<style scoped>\n",
       "    .dataframe tbody tr th:only-of-type {\n",
       "        vertical-align: middle;\n",
       "    }\n",
       "\n",
       "    .dataframe tbody tr th {\n",
       "        vertical-align: top;\n",
       "    }\n",
       "\n",
       "    .dataframe thead th {\n",
       "        text-align: right;\n",
       "    }\n",
       "</style>\n",
       "<table border=\"1\" class=\"dataframe\">\n",
       "  <thead>\n",
       "    <tr style=\"text-align: right;\">\n",
       "      <th></th>\n",
       "      <th>index</th>\n",
       "      <th>Airline</th>\n",
       "      <th>Date_of_Journey</th>\n",
       "      <th>Source</th>\n",
       "      <th>Destination</th>\n",
       "      <th>Route</th>\n",
       "      <th>Dep_Time</th>\n",
       "      <th>Arrival_Time</th>\n",
       "      <th>Duration</th>\n",
       "      <th>Total_Stops</th>\n",
       "      <th>Additional_Info</th>\n",
       "      <th>Price</th>\n",
       "    </tr>\n",
       "  </thead>\n",
       "  <tbody>\n",
       "    <tr>\n",
       "      <th>0</th>\n",
       "      <td>959</td>\n",
       "      <td>Jet Airways</td>\n",
       "      <td>2019-01-03</td>\n",
       "      <td>Banglore</td>\n",
       "      <td>New Delhi</td>\n",
       "      <td>BLR - BOM - DEL</td>\n",
       "      <td>11:40</td>\n",
       "      <td>00:45 02 Mar</td>\n",
       "      <td>13.083333</td>\n",
       "      <td>1 stop</td>\n",
       "      <td>No info</td>\n",
       "      <td>26890</td>\n",
       "    </tr>\n",
       "    <tr>\n",
       "      <th>1</th>\n",
       "      <td>6336</td>\n",
       "      <td>SpiceJet</td>\n",
       "      <td>2019-01-03</td>\n",
       "      <td>Banglore</td>\n",
       "      <td>New Delhi</td>\n",
       "      <td>BLR - HYD - DEL</td>\n",
       "      <td>15:35</td>\n",
       "      <td>23:40</td>\n",
       "      <td>8.083333</td>\n",
       "      <td>1 stop</td>\n",
       "      <td>1 Long layover</td>\n",
       "      <td>7744</td>\n",
       "    </tr>\n",
       "    <tr>\n",
       "      <th>2</th>\n",
       "      <td>1654</td>\n",
       "      <td>Jet Airways</td>\n",
       "      <td>2019-01-03</td>\n",
       "      <td>Banglore</td>\n",
       "      <td>New Delhi</td>\n",
       "      <td>BLR - BOM - DEL</td>\n",
       "      <td>08:00</td>\n",
       "      <td>20:20</td>\n",
       "      <td>12.333333</td>\n",
       "      <td>1 stop</td>\n",
       "      <td>No info</td>\n",
       "      <td>27992</td>\n",
       "    </tr>\n",
       "    <tr>\n",
       "      <th>3</th>\n",
       "      <td>6321</td>\n",
       "      <td>Air India</td>\n",
       "      <td>2019-01-03</td>\n",
       "      <td>Banglore</td>\n",
       "      <td>New Delhi</td>\n",
       "      <td>BLR - BOM - AMD - DEL</td>\n",
       "      <td>08:50</td>\n",
       "      <td>23:55 02 Mar</td>\n",
       "      <td>39.083333</td>\n",
       "      <td>2 stops</td>\n",
       "      <td>No info</td>\n",
       "      <td>17135</td>\n",
       "    </tr>\n",
       "    <tr>\n",
       "      <th>4</th>\n",
       "      <td>6314</td>\n",
       "      <td>Jet Airways</td>\n",
       "      <td>2019-01-03</td>\n",
       "      <td>Banglore</td>\n",
       "      <td>New Delhi</td>\n",
       "      <td>BLR - BOM - DEL</td>\n",
       "      <td>11:40</td>\n",
       "      <td>11:25 02 Mar</td>\n",
       "      <td>23.750000</td>\n",
       "      <td>1 stop</td>\n",
       "      <td>No info</td>\n",
       "      <td>25735</td>\n",
       "    </tr>\n",
       "  </tbody>\n",
       "</table>\n",
       "</div>"
      ],
      "text/plain": [
       "   index      Airline Date_of_Journey    Source Destination  \\\n",
       "0    959  Jet Airways      2019-01-03  Banglore   New Delhi   \n",
       "1   6336     SpiceJet      2019-01-03  Banglore   New Delhi   \n",
       "2   1654  Jet Airways      2019-01-03  Banglore   New Delhi   \n",
       "3   6321    Air India      2019-01-03  Banglore   New Delhi   \n",
       "4   6314  Jet Airways      2019-01-03  Banglore   New Delhi   \n",
       "\n",
       "                   Route Dep_Time  Arrival_Time   Duration Total_Stops  \\\n",
       "0        BLR - BOM - DEL    11:40  00:45 02 Mar  13.083333      1 stop   \n",
       "1        BLR - HYD - DEL    15:35         23:40   8.083333      1 stop   \n",
       "2        BLR - BOM - DEL    08:00         20:20  12.333333      1 stop   \n",
       "3  BLR - BOM - AMD - DEL    08:50  23:55 02 Mar  39.083333     2 stops   \n",
       "4        BLR - BOM - DEL    11:40  11:25 02 Mar  23.750000      1 stop   \n",
       "\n",
       "  Additional_Info  Price  \n",
       "0         No info  26890  \n",
       "1  1 Long layover   7744  \n",
       "2         No info  27992  \n",
       "3         No info  17135  \n",
       "4         No info  25735  "
      ]
     },
     "execution_count": 19,
     "metadata": {},
     "output_type": "execute_result"
    }
   ],
   "source": [
    "def time_string_to_float(time_str):\n",
    "    parts = time_str.split()\n",
    "\n",
    "    if len(parts) == 2:\n",
    "        try:\n",
    "            hours = int(parts[0].replace('h', ''))\n",
    "            minutes = int(parts[1].replace('m', ''))\n",
    "            total_hours = hours + minutes / 60.0\n",
    "            return total_hours\n",
    "        except ValueError:\n",
    "            return None\n",
    "    elif len(parts) == 1 and 'h' in parts[0]:\n",
    "        hours = int(parts[0].replace(\"h\", \"\"))\n",
    "        return hours\n",
    "    else:\n",
    "        return None\n",
    "\n",
    "df[\"Duration\"] = df[\"Duration\"].apply(time_string_to_float)\n",
    "df.head()\n",
    "\n"
   ]
  },
  {
   "cell_type": "code",
   "execution_count": 20,
   "metadata": {},
   "outputs": [],
   "source": [
    "df[\"Duration\"] = round(df[\"Duration\"], 2)\n",
    "# print(df[\"Duration\"])"
   ]
  },
  {
   "cell_type": "code",
   "execution_count": 21,
   "metadata": {},
   "outputs": [],
   "source": [
    "df = df.drop([\"Additional_Info\"], axis = 1)"
   ]
  },
  {
   "cell_type": "code",
   "execution_count": 25,
   "metadata": {},
   "outputs": [
    {
     "name": "stdout",
     "output_type": "stream",
     "text": [
      "Delhi       4536\n",
      "Kolkata     2871\n",
      "Banglore    2197\n",
      "Mumbai       697\n",
      "Chennai      381\n",
      "Name: Source, dtype: int64\n"
     ]
    }
   ],
   "source": [
    "print(df[\"Source\"].value_counts())"
   ]
  },
  {
   "cell_type": "code",
   "execution_count": 26,
   "metadata": {},
   "outputs": [
    {
     "name": "stdout",
     "output_type": "stream",
     "text": [
      "Cochin       4536\n",
      "Banglore     2871\n",
      "Delhi        1265\n",
      "New Delhi     932\n",
      "Hyderabad     697\n",
      "Kolkata       381\n",
      "Name: Destination, dtype: int64\n"
     ]
    }
   ],
   "source": [
    "print(df[\"Destination\"].value_counts())"
   ]
  },
  {
   "cell_type": "code",
   "execution_count": 27,
   "metadata": {},
   "outputs": [
    {
     "name": "stdout",
     "output_type": "stream",
     "text": [
      "DEL - BOM - COK          2376\n",
      "BLR - DEL                1552\n",
      "CCU - BOM - BLR           979\n",
      "CCU - BLR                 724\n",
      "BOM - HYD                 621\n",
      "                         ... \n",
      "BOM - BBI - HYD             1\n",
      "BOM - JAI - DEL - HYD       1\n",
      "CCU - IXB - DEL - BLR       1\n",
      "CCU - IXZ - MAA - BLR       1\n",
      "BLR - BOM - IXC - DEL       1\n",
      "Name: Route, Length: 128, dtype: int64\n"
     ]
    }
   ],
   "source": [
    "print(df[\"Route\"].value_counts())"
   ]
  },
  {
   "cell_type": "code",
   "execution_count": 28,
   "metadata": {},
   "outputs": [
    {
     "data": {
      "text/plain": [
       "count    10682.000000\n",
       "mean      9087.214567\n",
       "std       4611.548810\n",
       "min       1759.000000\n",
       "25%       5277.000000\n",
       "50%       8372.000000\n",
       "75%      12373.000000\n",
       "max      79512.000000\n",
       "Name: Price, dtype: float64"
      ]
     },
     "execution_count": 28,
     "metadata": {},
     "output_type": "execute_result"
    }
   ],
   "source": [
    "df[\"Price\"].describe()"
   ]
  },
  {
   "cell_type": "code",
   "execution_count": 29,
   "metadata": {},
   "outputs": [
    {
     "name": "stdout",
     "output_type": "stream",
     "text": [
      "index                       int64\n",
      "Airline                    object\n",
      "Date_of_Journey    datetime64[ns]\n",
      "Source                     object\n",
      "Destination                object\n",
      "Route                      object\n",
      "Dep_Time                   object\n",
      "Arrival_Time               object\n",
      "Duration                  float64\n",
      "Total_Stops                object\n",
      "Price                       int64\n",
      "dtype: object\n"
     ]
    }
   ],
   "source": [
    "print(df.dtypes)"
   ]
  },
  {
   "cell_type": "code",
   "execution_count": 30,
   "metadata": {},
   "outputs": [
    {
     "data": {
      "text/html": [
       "<div>\n",
       "<style scoped>\n",
       "    .dataframe tbody tr th:only-of-type {\n",
       "        vertical-align: middle;\n",
       "    }\n",
       "\n",
       "    .dataframe tbody tr th {\n",
       "        vertical-align: top;\n",
       "    }\n",
       "\n",
       "    .dataframe thead th {\n",
       "        text-align: right;\n",
       "    }\n",
       "</style>\n",
       "<table border=\"1\" class=\"dataframe\">\n",
       "  <thead>\n",
       "    <tr style=\"text-align: right;\">\n",
       "      <th></th>\n",
       "      <th>avg_price</th>\n",
       "      <th>avg_duration</th>\n",
       "    </tr>\n",
       "    <tr>\n",
       "      <th>Airline</th>\n",
       "      <th></th>\n",
       "      <th></th>\n",
       "    </tr>\n",
       "  </thead>\n",
       "  <tbody>\n",
       "    <tr>\n",
       "      <th>Jet Airways</th>\n",
       "      <td>11716.631128</td>\n",
       "      <td>14.150254</td>\n",
       "    </tr>\n",
       "    <tr>\n",
       "      <th>Multiple carriers Premium economy</th>\n",
       "      <td>11418.846154</td>\n",
       "      <td>10.106923</td>\n",
       "    </tr>\n",
       "    <tr>\n",
       "      <th>Multiple carriers</th>\n",
       "      <td>10902.678094</td>\n",
       "      <td>10.429406</td>\n",
       "    </tr>\n",
       "    <tr>\n",
       "      <th>Air India</th>\n",
       "      <td>9612.427756</td>\n",
       "      <td>15.724891</td>\n",
       "    </tr>\n",
       "    <tr>\n",
       "      <th>Vistara Premium economy</th>\n",
       "      <td>8962.333333</td>\n",
       "      <td>2.553333</td>\n",
       "    </tr>\n",
       "    <tr>\n",
       "      <th>Vistara</th>\n",
       "      <td>7796.348643</td>\n",
       "      <td>9.973528</td>\n",
       "    </tr>\n",
       "    <tr>\n",
       "      <th>GoAir</th>\n",
       "      <td>5861.056701</td>\n",
       "      <td>4.983814</td>\n",
       "    </tr>\n",
       "    <tr>\n",
       "      <th>IndiGo</th>\n",
       "      <td>5673.682903</td>\n",
       "      <td>4.756137</td>\n",
       "    </tr>\n",
       "    <tr>\n",
       "      <th>Air Asia</th>\n",
       "      <td>5590.260188</td>\n",
       "      <td>5.803950</td>\n",
       "    </tr>\n",
       "    <tr>\n",
       "      <th>SpiceJet</th>\n",
       "      <td>4338.284841</td>\n",
       "      <td>2.974523</td>\n",
       "    </tr>\n",
       "    <tr>\n",
       "      <th>Trujet</th>\n",
       "      <td>4140.000000</td>\n",
       "      <td>3.250000</td>\n",
       "    </tr>\n",
       "  </tbody>\n",
       "</table>\n",
       "</div>"
      ],
      "text/plain": [
       "                                      avg_price  avg_duration\n",
       "Airline                                                      \n",
       "Jet Airways                        11716.631128     14.150254\n",
       "Multiple carriers Premium economy  11418.846154     10.106923\n",
       "Multiple carriers                  10902.678094     10.429406\n",
       "Air India                           9612.427756     15.724891\n",
       "Vistara Premium economy             8962.333333      2.553333\n",
       "Vistara                             7796.348643      9.973528\n",
       "GoAir                               5861.056701      4.983814\n",
       "IndiGo                              5673.682903      4.756137\n",
       "Air Asia                            5590.260188      5.803950\n",
       "SpiceJet                            4338.284841      2.974523\n",
       "Trujet                              4140.000000      3.250000"
      ]
     },
     "execution_count": 30,
     "metadata": {},
     "output_type": "execute_result"
    }
   ],
   "source": [
    "df.groupby(\"Airline\").agg(avg_price = (\"Price\", \"mean\"), avg_duration = (\"Duration\", \"mean\")).sort_values(by = \"avg_price\", ascending= False)"
   ]
  },
  {
   "cell_type": "code",
   "execution_count": 31,
   "metadata": {},
   "outputs": [
    {
     "data": {
      "text/html": [
       "<div>\n",
       "<style scoped>\n",
       "    .dataframe tbody tr th:only-of-type {\n",
       "        vertical-align: middle;\n",
       "    }\n",
       "\n",
       "    .dataframe tbody tr th {\n",
       "        vertical-align: top;\n",
       "    }\n",
       "\n",
       "    .dataframe thead th {\n",
       "        text-align: right;\n",
       "    }\n",
       "</style>\n",
       "<table border=\"1\" class=\"dataframe\">\n",
       "  <thead>\n",
       "    <tr style=\"text-align: right;\">\n",
       "      <th></th>\n",
       "      <th></th>\n",
       "      <th>avg_price</th>\n",
       "      <th>avg_duration</th>\n",
       "    </tr>\n",
       "    <tr>\n",
       "      <th>Airline</th>\n",
       "      <th>Destination</th>\n",
       "      <th></th>\n",
       "      <th></th>\n",
       "    </tr>\n",
       "  </thead>\n",
       "  <tbody>\n",
       "    <tr>\n",
       "      <th rowspan=\"2\" valign=\"top\">Jet Airways</th>\n",
       "      <th>New Delhi</th>\n",
       "      <td>15553.812796</td>\n",
       "      <td>13.289834</td>\n",
       "    </tr>\n",
       "    <tr>\n",
       "      <th>Cochin</th>\n",
       "      <td>12688.871537</td>\n",
       "      <td>17.176946</td>\n",
       "    </tr>\n",
       "    <tr>\n",
       "      <th>Vistara</th>\n",
       "      <th>Hyderabad</th>\n",
       "      <td>12326.521739</td>\n",
       "      <td>17.218261</td>\n",
       "    </tr>\n",
       "    <tr>\n",
       "      <th>Vistara Premium economy</th>\n",
       "      <th>New Delhi</th>\n",
       "      <td>11793.000000</td>\n",
       "      <td>2.580000</td>\n",
       "    </tr>\n",
       "    <tr>\n",
       "      <th>Jet Airways</th>\n",
       "      <th>Banglore</th>\n",
       "      <td>11717.565287</td>\n",
       "      <td>15.950064</td>\n",
       "    </tr>\n",
       "    <tr>\n",
       "      <th>Multiple carriers Premium economy</th>\n",
       "      <th>Cochin</th>\n",
       "      <td>11418.846154</td>\n",
       "      <td>10.106923</td>\n",
       "    </tr>\n",
       "    <tr>\n",
       "      <th>Air India</th>\n",
       "      <th>New Delhi</th>\n",
       "      <td>11045.575472</td>\n",
       "      <td>16.215802</td>\n",
       "    </tr>\n",
       "    <tr>\n",
       "      <th>Multiple carriers</th>\n",
       "      <th>Cochin</th>\n",
       "      <td>10902.678094</td>\n",
       "      <td>10.429406</td>\n",
       "    </tr>\n",
       "    <tr>\n",
       "      <th rowspan=\"2\" valign=\"top\">Air India</th>\n",
       "      <th>Banglore</th>\n",
       "      <td>10357.324219</td>\n",
       "      <td>17.317930</td>\n",
       "    </tr>\n",
       "    <tr>\n",
       "      <th>Cochin</th>\n",
       "      <td>10003.446381</td>\n",
       "      <td>18.786059</td>\n",
       "    </tr>\n",
       "    <tr>\n",
       "      <th>Vistara</th>\n",
       "      <th>Banglore</th>\n",
       "      <td>9257.683060</td>\n",
       "      <td>19.080601</td>\n",
       "    </tr>\n",
       "    <tr>\n",
       "      <th>Vistara Premium economy</th>\n",
       "      <th>Kolkata</th>\n",
       "      <td>9125.000000</td>\n",
       "      <td>2.250000</td>\n",
       "    </tr>\n",
       "    <tr>\n",
       "      <th>Vistara</th>\n",
       "      <th>New Delhi</th>\n",
       "      <td>8947.388889</td>\n",
       "      <td>5.381296</td>\n",
       "    </tr>\n",
       "    <tr>\n",
       "      <th>Air Asia</th>\n",
       "      <th>Cochin</th>\n",
       "      <td>7804.175000</td>\n",
       "      <td>10.065625</td>\n",
       "    </tr>\n",
       "    <tr>\n",
       "      <th>GoAir</th>\n",
       "      <th>New Delhi</th>\n",
       "      <td>7532.333333</td>\n",
       "      <td>3.180000</td>\n",
       "    </tr>\n",
       "    <tr>\n",
       "      <th>Vistara</th>\n",
       "      <th>Kolkata</th>\n",
       "      <td>7491.372093</td>\n",
       "      <td>2.283488</td>\n",
       "    </tr>\n",
       "    <tr>\n",
       "      <th rowspan=\"2\" valign=\"top\">IndiGo</th>\n",
       "      <th>New Delhi</th>\n",
       "      <td>7312.828025</td>\n",
       "      <td>3.358025</td>\n",
       "    </tr>\n",
       "    <tr>\n",
       "      <th>Cochin</th>\n",
       "      <td>7203.933333</td>\n",
       "      <td>8.548638</td>\n",
       "    </tr>\n",
       "    <tr>\n",
       "      <th rowspan=\"2\" valign=\"top\">GoAir</th>\n",
       "      <th>Banglore</th>\n",
       "      <td>7047.000000</td>\n",
       "      <td>7.288400</td>\n",
       "    </tr>\n",
       "    <tr>\n",
       "      <th>Cochin</th>\n",
       "      <td>6587.157895</td>\n",
       "      <td>6.746316</td>\n",
       "    </tr>\n",
       "    <tr>\n",
       "      <th>Vistara</th>\n",
       "      <th>Cochin</th>\n",
       "      <td>6465.644444</td>\n",
       "      <td>3.142222</td>\n",
       "    </tr>\n",
       "    <tr>\n",
       "      <th>Jet Airways</th>\n",
       "      <th>Delhi</th>\n",
       "      <td>6412.954054</td>\n",
       "      <td>2.961676</td>\n",
       "    </tr>\n",
       "    <tr>\n",
       "      <th>Air India</th>\n",
       "      <th>Hyderabad</th>\n",
       "      <td>6260.051471</td>\n",
       "      <td>5.988667</td>\n",
       "    </tr>\n",
       "    <tr>\n",
       "      <th>Jet Airways</th>\n",
       "      <th>Hyderabad</th>\n",
       "      <td>6227.949772</td>\n",
       "      <td>2.442146</td>\n",
       "    </tr>\n",
       "    <tr>\n",
       "      <th>SpiceJet</th>\n",
       "      <th>New Delhi</th>\n",
       "      <td>6223.727273</td>\n",
       "      <td>3.795000</td>\n",
       "    </tr>\n",
       "    <tr>\n",
       "      <th>Air India</th>\n",
       "      <th>Delhi</th>\n",
       "      <td>6045.166667</td>\n",
       "      <td>2.790917</td>\n",
       "    </tr>\n",
       "    <tr>\n",
       "      <th>Vistara Premium economy</th>\n",
       "      <th>Delhi</th>\n",
       "      <td>5969.000000</td>\n",
       "      <td>2.830000</td>\n",
       "    </tr>\n",
       "    <tr>\n",
       "      <th>SpiceJet</th>\n",
       "      <th>Cochin</th>\n",
       "      <td>5916.356322</td>\n",
       "      <td>5.135517</td>\n",
       "    </tr>\n",
       "    <tr>\n",
       "      <th>Air India</th>\n",
       "      <th>Kolkata</th>\n",
       "      <td>5895.640000</td>\n",
       "      <td>2.250000</td>\n",
       "    </tr>\n",
       "    <tr>\n",
       "      <th>Air Asia</th>\n",
       "      <th>New Delhi</th>\n",
       "      <td>5791.944444</td>\n",
       "      <td>2.790000</td>\n",
       "    </tr>\n",
       "    <tr>\n",
       "      <th>IndiGo</th>\n",
       "      <th>Banglore</th>\n",
       "      <td>5075.235955</td>\n",
       "      <td>3.215101</td>\n",
       "    </tr>\n",
       "    <tr>\n",
       "      <th>Vistara</th>\n",
       "      <th>Delhi</th>\n",
       "      <td>5042.312977</td>\n",
       "      <td>2.743282</td>\n",
       "    </tr>\n",
       "    <tr>\n",
       "      <th>Air Asia</th>\n",
       "      <th>Banglore</th>\n",
       "      <td>5012.320000</td>\n",
       "      <td>5.312667</td>\n",
       "    </tr>\n",
       "    <tr>\n",
       "      <th>SpiceJet</th>\n",
       "      <th>Banglore</th>\n",
       "      <td>4642.883333</td>\n",
       "      <td>3.177633</td>\n",
       "    </tr>\n",
       "    <tr>\n",
       "      <th rowspan=\"2\" valign=\"top\">IndiGo</th>\n",
       "      <th>Kolkata</th>\n",
       "      <td>4538.766304</td>\n",
       "      <td>2.357826</td>\n",
       "    </tr>\n",
       "    <tr>\n",
       "      <th>Delhi</th>\n",
       "      <td>4399.581967</td>\n",
       "      <td>2.861530</td>\n",
       "    </tr>\n",
       "    <tr>\n",
       "      <th>Air Asia</th>\n",
       "      <th>Delhi</th>\n",
       "      <td>4265.577465</td>\n",
       "      <td>2.804085</td>\n",
       "    </tr>\n",
       "    <tr>\n",
       "      <th>Trujet</th>\n",
       "      <th>Hyderabad</th>\n",
       "      <td>4140.000000</td>\n",
       "      <td>3.250000</td>\n",
       "    </tr>\n",
       "    <tr>\n",
       "      <th>GoAir</th>\n",
       "      <th>Delhi</th>\n",
       "      <td>4050.289855</td>\n",
       "      <td>2.834928</td>\n",
       "    </tr>\n",
       "    <tr>\n",
       "      <th rowspan=\"2\" valign=\"top\">SpiceJet</th>\n",
       "      <th>Delhi</th>\n",
       "      <td>4012.839416</td>\n",
       "      <td>2.805693</td>\n",
       "    </tr>\n",
       "    <tr>\n",
       "      <th>Kolkata</th>\n",
       "      <td>3993.523438</td>\n",
       "      <td>2.309141</td>\n",
       "    </tr>\n",
       "    <tr>\n",
       "      <th>IndiGo</th>\n",
       "      <th>Hyderabad</th>\n",
       "      <td>3659.816327</td>\n",
       "      <td>1.522806</td>\n",
       "    </tr>\n",
       "    <tr>\n",
       "      <th>SpiceJet</th>\n",
       "      <th>Hyderabad</th>\n",
       "      <td>2511.106557</td>\n",
       "      <td>1.525820</td>\n",
       "    </tr>\n",
       "  </tbody>\n",
       "</table>\n",
       "</div>"
      ],
      "text/plain": [
       "                                                  avg_price  avg_duration\n",
       "Airline                           Destination                            \n",
       "Jet Airways                       New Delhi    15553.812796     13.289834\n",
       "                                  Cochin       12688.871537     17.176946\n",
       "Vistara                           Hyderabad    12326.521739     17.218261\n",
       "Vistara Premium economy           New Delhi    11793.000000      2.580000\n",
       "Jet Airways                       Banglore     11717.565287     15.950064\n",
       "Multiple carriers Premium economy Cochin       11418.846154     10.106923\n",
       "Air India                         New Delhi    11045.575472     16.215802\n",
       "Multiple carriers                 Cochin       10902.678094     10.429406\n",
       "Air India                         Banglore     10357.324219     17.317930\n",
       "                                  Cochin       10003.446381     18.786059\n",
       "Vistara                           Banglore      9257.683060     19.080601\n",
       "Vistara Premium economy           Kolkata       9125.000000      2.250000\n",
       "Vistara                           New Delhi     8947.388889      5.381296\n",
       "Air Asia                          Cochin        7804.175000     10.065625\n",
       "GoAir                             New Delhi     7532.333333      3.180000\n",
       "Vistara                           Kolkata       7491.372093      2.283488\n",
       "IndiGo                            New Delhi     7312.828025      3.358025\n",
       "                                  Cochin        7203.933333      8.548638\n",
       "GoAir                             Banglore      7047.000000      7.288400\n",
       "                                  Cochin        6587.157895      6.746316\n",
       "Vistara                           Cochin        6465.644444      3.142222\n",
       "Jet Airways                       Delhi         6412.954054      2.961676\n",
       "Air India                         Hyderabad     6260.051471      5.988667\n",
       "Jet Airways                       Hyderabad     6227.949772      2.442146\n",
       "SpiceJet                          New Delhi     6223.727273      3.795000\n",
       "Air India                         Delhi         6045.166667      2.790917\n",
       "Vistara Premium economy           Delhi         5969.000000      2.830000\n",
       "SpiceJet                          Cochin        5916.356322      5.135517\n",
       "Air India                         Kolkata       5895.640000      2.250000\n",
       "Air Asia                          New Delhi     5791.944444      2.790000\n",
       "IndiGo                            Banglore      5075.235955      3.215101\n",
       "Vistara                           Delhi         5042.312977      2.743282\n",
       "Air Asia                          Banglore      5012.320000      5.312667\n",
       "SpiceJet                          Banglore      4642.883333      3.177633\n",
       "IndiGo                            Kolkata       4538.766304      2.357826\n",
       "                                  Delhi         4399.581967      2.861530\n",
       "Air Asia                          Delhi         4265.577465      2.804085\n",
       "Trujet                            Hyderabad     4140.000000      3.250000\n",
       "GoAir                             Delhi         4050.289855      2.834928\n",
       "SpiceJet                          Delhi         4012.839416      2.805693\n",
       "                                  Kolkata       3993.523438      2.309141\n",
       "IndiGo                            Hyderabad     3659.816327      1.522806\n",
       "SpiceJet                          Hyderabad     2511.106557      1.525820"
      ]
     },
     "execution_count": 31,
     "metadata": {},
     "output_type": "execute_result"
    }
   ],
   "source": [
    "df.groupby([\"Airline\", \"Destination\"]).agg(\n",
    "    avg_price=pd.NamedAgg(column=\"Price\", aggfunc=\"mean\"),\n",
    "    avg_duration=pd.NamedAgg(column=\"Duration\", aggfunc=\"mean\")\n",
    ").sort_values(by=\"avg_price\", ascending=False)"
   ]
  },
  {
   "cell_type": "code",
   "execution_count": 32,
   "metadata": {},
   "outputs": [
    {
     "name": "stdout",
     "output_type": "stream",
     "text": [
      "      Date_of_Journey  Months\n",
      "0          2019-01-03       1\n",
      "1          2019-01-03       1\n",
      "2          2019-01-03       1\n",
      "3          2019-01-03       1\n",
      "4          2019-01-03       1\n",
      "...               ...     ...\n",
      "10678      2019-12-06      12\n",
      "10679      2019-12-06      12\n",
      "10680      2019-12-06      12\n",
      "10681      2019-12-06      12\n",
      "10682      2019-12-06      12\n",
      "\n",
      "[10682 rows x 2 columns]\n"
     ]
    }
   ],
   "source": [
    "df[\"Months\"] = df[\"Date_of_Journey\"].dt.month\n",
    "print(df[[\"Date_of_Journey\", \"Months\"]])"
   ]
  },
  {
   "cell_type": "code",
   "execution_count": 33,
   "metadata": {},
   "outputs": [
    {
     "data": {
      "text/html": [
       "<div>\n",
       "<style scoped>\n",
       "    .dataframe tbody tr th:only-of-type {\n",
       "        vertical-align: middle;\n",
       "    }\n",
       "\n",
       "    .dataframe tbody tr th {\n",
       "        vertical-align: top;\n",
       "    }\n",
       "\n",
       "    .dataframe thead th {\n",
       "        text-align: right;\n",
       "    }\n",
       "</style>\n",
       "<table border=\"1\" class=\"dataframe\">\n",
       "  <thead>\n",
       "    <tr style=\"text-align: right;\">\n",
       "      <th></th>\n",
       "      <th>avg_price</th>\n",
       "      <th>avg_duration</th>\n",
       "    </tr>\n",
       "    <tr>\n",
       "      <th>Months</th>\n",
       "      <th></th>\n",
       "      <th></th>\n",
       "    </tr>\n",
       "  </thead>\n",
       "  <tbody>\n",
       "    <tr>\n",
       "      <th>1</th>\n",
       "      <td>10492.642791</td>\n",
       "      <td>11.081740</td>\n",
       "    </tr>\n",
       "    <tr>\n",
       "      <th>9</th>\n",
       "      <td>9551.474395</td>\n",
       "      <td>11.742098</td>\n",
       "    </tr>\n",
       "    <tr>\n",
       "      <th>5</th>\n",
       "      <td>9361.077628</td>\n",
       "      <td>11.708505</td>\n",
       "    </tr>\n",
       "    <tr>\n",
       "      <th>6</th>\n",
       "      <td>9215.649310</td>\n",
       "      <td>10.678836</td>\n",
       "    </tr>\n",
       "    <tr>\n",
       "      <th>12</th>\n",
       "      <td>9110.774295</td>\n",
       "      <td>11.434044</td>\n",
       "    </tr>\n",
       "    <tr>\n",
       "      <th>3</th>\n",
       "      <td>8433.839891</td>\n",
       "      <td>10.026590</td>\n",
       "    </tr>\n",
       "    <tr>\n",
       "      <th>4</th>\n",
       "      <td>5230.860849</td>\n",
       "      <td>3.773042</td>\n",
       "    </tr>\n",
       "  </tbody>\n",
       "</table>\n",
       "</div>"
      ],
      "text/plain": [
       "           avg_price  avg_duration\n",
       "Months                            \n",
       "1       10492.642791     11.081740\n",
       "9        9551.474395     11.742098\n",
       "5        9361.077628     11.708505\n",
       "6        9215.649310     10.678836\n",
       "12       9110.774295     11.434044\n",
       "3        8433.839891     10.026590\n",
       "4        5230.860849      3.773042"
      ]
     },
     "execution_count": 33,
     "metadata": {},
     "output_type": "execute_result"
    }
   ],
   "source": [
    "df.groupby(\"Months\").agg(avg_price = (\"Price\", \"mean\"), avg_duration = (\"Duration\", \"mean\")).sort_values(by = \"avg_price\", ascending= False)"
   ]
  },
  {
   "cell_type": "code",
   "execution_count": 57,
   "metadata": {},
   "outputs": [
    {
     "data": {
      "text/plain": [
       "1 stop      5625\n",
       "non-stop    3491\n",
       "2 stops     1520\n",
       "3 stops       45\n",
       "4 stops        1\n",
       "Name: Total_Stops, dtype: int64"
      ]
     },
     "execution_count": 57,
     "metadata": {},
     "output_type": "execute_result"
    }
   ],
   "source": [
    "df['Total_Stops'].value_counts()"
   ]
  },
  {
   "cell_type": "code",
   "execution_count": 58,
   "metadata": {},
   "outputs": [
    {
     "data": {
      "image/png": "[encoded data removed]",
      "text/plain": [
       "<Figure size 640x480 with 1 Axes>"
      ]
     },
     "metadata": {},
     "output_type": "display_data"
    }
   ],
   "source": [
    "df.groupby(['Total_Stops'])['Price'].mean().sort_values().plot(kind='bar',color='cyan',edgecolor='blue')\n",
    "plt.xlabel('Total Stops')\n",
    "plt.ylabel('Price')\n",
    "plt.savefig(\"../project1-team1/Fig5.png\")\n",
    "plt.show()"
   ]
  },
  {
   "cell_type": "code",
   "execution_count": 59,
   "metadata": {},
   "outputs": [
    {
     "data": {
      "image/png": "[encoded data removed]",
      "text/plain": [
       "<Figure size 640x480 with 1 Axes>"
      ]
     },
     "metadata": {},
     "output_type": "display_data"
    }
   ],
   "source": [
    "df.groupby(['Source'])['Price'].mean().sort_values().plot(kind='bar',color='b',edgecolor='black')\n",
    "plt.xlabel('Source Name')\n",
    "plt.ylabel('Price')\n",
    "plt.savefig(\"../project1-team1/Fig1.png\")"
   ]
  },
  {
   "cell_type": "code",
   "execution_count": 35,
   "metadata": {},
   "outputs": [],
   "source": [
    "# Labels for the sections of our pie chart\n",
    "labels = [\"Cochin\", \"Banglore\", \"Delhi\", \"New Delhi\",\"Hyderabad\",\"Kolkata\"]\n",
    "\n",
    "# The values of each section of the pie chart\n",
    "sizes = [4536, 2871, 1265, 932,696,381]\n",
    "\n",
    "# The colors of each section of the pie chart\n",
    "colors = [\"Yellow\", \"Orange\", \"Red\", \"Blue\",\"Pink\", \"Green\"]\n",
    "\n",
    "# Tells matplotlib to separate the \"Humans\" section from the others\n",
    "explode = (0.1,0.1,0.1,0.1,0.1,0.1)\n"
   ]
  },
  {
   "cell_type": "code",
   "execution_count": 36,
   "metadata": {},
   "outputs": [
    {
     "data": {
      "image/png": "[encoded data removed]",
      "text/plain": [
       "<Figure size 640x480 with 1 Axes>"
      ]
     },
     "metadata": {},
     "output_type": "display_data"
    },
    {
     "data": {
      "text/plain": [
       "<Figure size 640x480 with 0 Axes>"
      ]
     },
     "metadata": {},
     "output_type": "display_data"
    }
   ],
   "source": [
    "plt.pie(sizes,labels=labels,colors=colors, autopct=\"%1.f%%\",explode=explode, shadow=True, startangle=130)\n",
    "plt.show()\n",
    "plt.savefig(\"../project1-team1/Fig3.png\")\n"
   ]
  },
  {
   "cell_type": "code",
   "execution_count": 37,
   "metadata": {},
   "outputs": [
    {
     "data": {
      "image/png": "[encoded data removed]",
      "text/plain": [
       "<Figure size 640x480 with 1 Axes>"
      ]
     },
     "metadata": {},
     "output_type": "display_data"
    }
   ],
   "source": [
    "df.groupby(['Airline'])['Price'].mean().sort_values().plot(kind='bar',color='r')\n",
    "plt.xlabel('Airline ')\n",
    "plt.ylabel('Price')\n",
    "plt.savefig(\"../project1-team1/Fig2.png\")"
   ]
  },
  {
   "cell_type": "code",
   "execution_count": null,
   "metadata": {},
   "outputs": [],
   "source": []
  }
 ],
 "metadata": {
  "kernelspec": {
   "display_name": "Python 3 (ipykernel)",
   "language": "python",
   "name": "python3"
  },
  "language_info": {
   "codemirror_mode": {
    "name": "ipython",
    "version": 3
   },
   "file_extension": ".py",
   "mimetype": "text/x-python",
   "name": "python",
   "nbconvert_exporter": "python",
   "pygments_lexer": "ipython3",
   "version": "3.11.4"
  }
 },
 "nbformat": 4,
 "nbformat_minor": 2
}
